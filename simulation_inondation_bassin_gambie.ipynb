{
 "cells": [
  {
   "cell_type": "markdown",
   "id": "04c9d7ea-54c5-4937-b36d-0f4e61c32718",
   "metadata": {},
   "source": [
    "### 1. Titre du projet\n",
    "Evaluation  des zones inondables dans le bassin du fleuve Gambie à partir d'un scénario de crue localisée - Cas de la station de Kédougou (Juillet 2024)"
   ]
  },
  {
   "cell_type": "markdown",
   "id": "1639e8ec-0b66-4ba8-8932-779fcdffb26d",
   "metadata": {},
   "source": [
    "### 2. Contexte et objectif\n",
    "Ce projet vise à localiser les zones critiques en aval de la station de Kédougou en croisant le MNT, l'occupation du sol et les données GHSL"
   ]
  },
  {
   "cell_type": "markdown",
   "id": "92e460fa-b281-447b-88b2-14e2b1f72571",
   "metadata": {},
   "source": [
    "### 3. Données utilisées\n",
    "- MNT du bassin versant du fleuve Gambie\n",
    "- Landcover ESA WorldCover \n",
    "- Données GHSL (population et surface bâtie)\n",
    "- Données de crue ()\n",
    "  * Nivau d'alerte (Juillet 2024):\n",
    "  * Niveau observé :\n",
    "  * Ecart modélisé"
   ]
  },
  {
   "cell_type": "markdown",
   "id": "dd8f8176-8f62-4246-9041-8dbd3f62bbae",
   "metadata": {},
   "source": [
    "### 4. Technologies utilisées\n",
    "- PCRaser: moteur principal de simulation pour la modélisation hydrologique, nottamment les fonctions accucapacityflux, accucapacitystate, spreadzone, ldd, etc.\n",
    "- GDAL: convertion et manipulation de fichier raster (GeoTiff vers .map, reprojection, extraction de métadonnées).\n",
    "- Numpy: manipulation efficace de matrice (ex. pour les conversions intermédiares ou calculs personnalisés).\n",
    "- Matplotlib: visualisation des résultats(cartes des zones inondables, évolution temporelle).\n",
    "- Jupyter notebook: environnement interactif pour tester, visualiser et documenter les simulations"
   ]
  },
  {
   "cell_type": "markdown",
   "id": "805d51b5-bf40-4785-b72d-3b2f54729abf",
   "metadata": {},
   "source": [
    "### 5. Choix d'un modèle dynamique\n",
    "Pour simuler le processus d'inondation sur le bassin Gambie, nous avons choisi d'utiliser un **modèle dynamique PCRaster** basé sur la classe `DynamicModel`.\n",
    "#### Pourquoi un modèle dynamique?\n",
    "- **Evolution temporelle** : Les phénomènes hydrologiques(écoulement, inondation, ruissellement) sont dépendants du temps. Le modèle dynamique permet d'intégrer cette évolution pas à pas.\n",
    "- **Simulation réaliste** : Il permet d'observer l'impact cumulé des précipitation, de la topographie, de l'occupation du sol, etc sur la propagation de l'eau.\n",
    "- **Flexibilité** : Grâce aux itérations temporelles, il est possible d'intégrer des paramètres variables dans le temps(ex. précipitations journalières, gestion des barrages, etc.).\n",
    "Ce modèle est donc adapté pour reproduire et analyser le comportement spatial et  temporel des inondations dans le bassin."
   ]
  },
  {
   "cell_type": "markdown",
   "id": "452a39ca-bbba-4e9f-a06e-3b9e7aa7097b",
   "metadata": {},
   "source": [
    "### 6. Séparation des traitement statiques et dynamiques\n",
    "Dans un souci de performation et de modularité, certains traitements geospataux lourds ou invariant ont été externalisés de la classe `DynamicModel`. L'objectif est de les exécuter une seule fois en amont, puis sauvegarder les résultats pour les réutilisés dans la simulation dynamiques"
   ]
  },
  {
   "cell_type": "markdown",
   "id": "bbfe96a5-9bdd-4c30-a44e-a406fb146c0c",
   "metadata": {},
   "source": [
    "### 7. Traitements préalables effectués hors de `DynamicModel`"
   ]
  },
  {
   "cell_type": "markdown",
   "id": "22a22bf5-e94f-409e-bd71-5b8a405e13ae",
   "metadata": {},
   "source": [
    "#### a. Importation des bibliothèques python"
   ]
  },
  {
   "cell_type": "code",
   "execution_count": 3,
   "id": "2cde19b5-f8b5-447d-bca0-7ea0c59509bb",
   "metadata": {},
   "outputs": [],
   "source": [
    "import pcraster as pcr\n",
    "import numpy as np\n",
    "import glob\n",
    "import os\n",
    "#import matplotlib.pyplot as plt\n",
    "from osgeo import gdal, osr, gdalconst\n",
    "#from tqdm import tqdm # pour une barre de progression\n",
    "#from pyproj import Transformer\n",
    "gdal.UseExceptions()"
   ]
  },
  {
   "cell_type": "code",
   "execution_count": 8,
   "id": "542d5f86-c08e-4777-a29e-a56d30224dad",
   "metadata": {},
   "outputs": [],
   "source": [
    "dem = gdal.Open('Data/basin_dem.tif') # le Modèle Numérique Terrestre\n",
    "landcover = gdal.Open('Data/basincover.tif') # les données sur l'occupation du sol\n",
    "ghsl_built = gdal.Open('Data/basin_built.tif') # les données GHSL de la distribution des surfaces urbanisées (bâties), exprimées en mètres carrés 2020\n",
    "ghsl_pop = gdal.Open('Data/basin_pop.tif') # les données GHSL de la distribution spatiale de la population en 2020"
   ]
  },
  {
   "cell_type": "markdown",
   "id": "1d46dc26-9789-4331-9f63-4542378b85ea",
   "metadata": {},
   "source": [
    "#### b. Imporation des données et affichage des proprietés de nos dataset"
   ]
  },
  {
   "cell_type": "code",
   "execution_count": 9,
   "id": "e1c7175f-8239-4b29-a6ae-9b0ac2034fed",
   "metadata": {},
   "outputs": [],
   "source": [
    "# Fonction pour l'affichage des proprietés des datasets\n",
    "def gdal_properties(input_path): # Affichier les proprietés pour chaque fichier\n",
    "    if not os.path.exists(input_path):\n",
    "        raise ValueError(f\"Fichier introuvable\")\n",
    "    raster = gdal.Open(input_path)\n",
    "    path = raster.GetDescription()\n",
    "    width = raster.RasterXSize\n",
    "    height = raster.RasterYSize\n",
    "    projection = raster.GetProjection()\n",
    "    geotransform = raster.GetGeoTransform()\n",
    "    metadata = raster.GetMetadata()\n",
    "    numband = raster.RasterCount\n",
    "    driver = raster.GetDriver().ShortName\n",
    "    print(\"#############################################\")\n",
    "    print('Propriétés')\n",
    "    print(f\"{path} a {width} x {height} comme dimension\")\n",
    "    print(f\"Driver: {driver}\")\n",
    "    print(f\"Nombre de bande: {numband}\")\n",
    "    print(f\"Les metadonnées: {metadata}\")\n",
    "\n",
    "    srs = osr.SpatialReference() \n",
    "    srs.ImportFromWkt(projection)\n",
    "    epsg_code = srs.GetAuthorityCode(None)\n",
    "    unit_name = \"Degree\" if epsg_code == \"4326\" else srs.GetLinearUnitsName()\n",
    "    unit_value = srs.GetLinearUnits()\n",
    "    print(f\"Unité de la projection: {unit_name} {unit_value}\")\n",
    "\n",
    "    if geotransform:\n",
    "        \n",
    "        print(f\"Origine: ({geotransform[0]}, {geotransform[3]})\")\n",
    "        print(f\"Size: ({geotransform[1]} {unit_name}, {geotransform[5]} {unit_name})\")\n",
    "    layerBand = raster.GetRasterBand(1)\n",
    "    min_value, max_value = layerBand.ComputeRasterMinMax()\n",
    "    print(f\"Valeur minimale {min_value}\")\n",
    "    print(f\"Valeur maximale {max_value}\")\n",
    "    print(\"#############################################\")\n",
    "    raster = None"
   ]
  },
  {
   "cell_type": "code",
   "execution_count": 10,
   "id": "ddedcb99-70f1-485e-abc1-3db933d3428d",
   "metadata": {},
   "outputs": [
    {
     "name": "stdout",
     "output_type": "stream",
     "text": [
      "#############################################\n",
      "Propriétés\n",
      "Data/basin_built.tif a 20060 x 17852 comme dimension\n",
      "Driver: GTiff\n",
      "Nombre de bande: 1\n",
      "Les metadonnées: {'AREA_OR_POINT': 'Area'}\n",
      "Unité de la projection: m 1.0\n",
      "Origine: (-1721000.0, 2052780.0)\n",
      "Size: (30.0 m, -30.0 m)\n",
      "Valeur minimale 0.0\n",
      "Valeur maximale 6599.0\n",
      "#############################################\n",
      "\n",
      "\n",
      "#############################################\n",
      "Propriétés\n",
      "Data/basin_dem.tif a 18137 x 12359 comme dimension\n",
      "Driver: GTiff\n",
      "Nombre de bande: 1\n",
      "Les metadonnées: {'AREA_OR_POINT': 'Area'}\n",
      "Unité de la projection: Degree 1.0\n",
      "Origine: (-16.15022041715082, 14.68830289986267)\n",
      "Size: (0.0002694945852358564 Degree, -0.0002694945852358564 Degree)\n",
      "Valeur minimale -29.0\n",
      "Valeur maximale 1530.0\n",
      "#############################################\n",
      "\n",
      "\n",
      "#############################################\n",
      "Propriétés\n",
      "Data/basin_pop.tif a 15897 x 13590 comme dimension\n",
      "Driver: GTiff\n",
      "Nombre de bande: 1\n",
      "Les metadonnées: {'AREA_OR_POINT': 'Area'}\n",
      "Unité de la projection: m 1.0\n",
      "Origine: (-1591130.0, 1808490.0)\n",
      "Size: (30.0 m, -30.0 m)\n",
      "Valeur minimale 0.0\n",
      "Valeur maximale 418.5404357910156\n",
      "#############################################\n",
      "\n",
      "\n",
      "#############################################\n",
      "Propriétés\n",
      "Data/basincover.tif a 18137 x 12358 comme dimension\n",
      "Driver: GTiff\n",
      "Nombre de bande: 1\n",
      "Les metadonnées: {'AREA_OR_POINT': 'Area'}\n",
      "Unité de la projection: Degree 1.0\n",
      "Origine: (-16.15025661703686, 14.688148634019598)\n",
      "Size: (0.00026949458523585647 Degree, -0.00026949458523585647 Degree)\n",
      "Valeur minimale 0.0\n",
      "Valeur maximale 95.0\n",
      "#############################################\n",
      "\n",
      "\n",
      "#############################################\n",
      "Propriétés\n",
      "Data/basin_dem_modifie.tif a 18137 x 12359 comme dimension\n",
      "Driver: GTiff\n",
      "Nombre de bande: 1\n",
      "Les metadonnées: {'AREA_OR_POINT': 'Area'}\n",
      "Unité de la projection: Degree 1.0\n",
      "Origine: (-16.15022041715082, 14.68830289986267)\n",
      "Size: (0.0002694945852358564 Degree, -0.0002694945852358564 Degree)\n",
      "Valeur minimale -29.0\n",
      "Valeur maximale 1530.0\n",
      "#############################################\n",
      "\n",
      "\n"
     ]
    }
   ],
   "source": [
    "basin_raster_paths = glob.glob('Data/basin*.tif') # Charger les fichiers geotiff\n",
    "for path in basin_raster_paths:\n",
    "    \n",
    "    gdal_properties(path)\n",
    "    print('\\n')"
   ]
  },
  {
   "cell_type": "markdown",
   "id": "ecfb003b-46d6-4360-8529-288df5889796",
   "metadata": {},
   "source": [
    "#### c. Alignement des rasters\n",
    "Pour une cohérence spatiales, une interopérabilité entre les données et une optimisation des calculs, on va aligner nos rasters sur un raster de référence (même projection, geotransformation et résolution)"
   ]
  },
  {
   "cell_type": "code",
   "execution_count": 18,
   "id": "8cb10331-017d-40ef-b64f-48adcdf4a0fc",
   "metadata": {},
   "outputs": [],
   "source": [
    "#fonction pour la reprojection\n",
    "def align_rasters(reference_path, input_rasters, output_dir):\n",
    "    \"\"\"\n",
    "    Aligner les rasters sur la référence GHSL built_surface\n",
    "    \"\"\"\n",
    "    #configurer gdal pour optimiser les performances\n",
    "    gdal.SetConfigOption('GDAL_NUM_THREADS', 'ALL_CPUS')\n",
    "    gdal.SetConfigOption('GDAL_CACHEMAX', '512')\n",
    "\n",
    "    # Vérifier/Convertir la référence en EPSG:32628\n",
    "    ref_ds = gdal.Open(reference_path)\n",
    "    ref_proj = ref_ds.GetProjection()\n",
    "    srs = osr.SpatialReference()\n",
    "    srs.ImportFromWkt(ref_proj)\n",
    "\n",
    "    if srs.GetAuthorityCode(None) != '32628':\n",
    "        print('Conversion de la référence en EPSG:32628')\n",
    "        temp_ref_path = os.path.join(output_dir, 'temp_ref_32628.tif')\n",
    "        gdal.Warp(temp_ref_path, ref_ds, dstSRS=\"EPSG:32628\")\n",
    "        ref_df = None\n",
    "        ref_ds = gdal.Open(temp_ref_path)\n",
    "    \n",
    "\n",
    "    # Paramètres de référence\n",
    "    ref_proj = ref_ds.GetProjection()\n",
    "    ref_gt = ref_ds.GetGeoTransform()\n",
    "    x_size = ref_ds.RasterXSize\n",
    "    y_size = ref_ds.RasterYSize\n",
    "\n",
    "    # Calcul des bornes\n",
    "    min_x = ref_gt[0]\n",
    "    max_y = ref_gt[3]\n",
    "    max_x = min_x + ref_gt[1] * x_size\n",
    "    min_y = max_y + ref_gt[5] * y_size\n",
    "    new_res = min(ref_gt[1], ref_gt[5])\n",
    "\n",
    "    # Dossier de sortie\n",
    "    os.makedirs(output_dir, exist_ok=True)\n",
    "\n",
    "    # Méthodes de rééchantillonnage spécifique par type de données\n",
    "    resample_methods = {\n",
    "        'landcover': gdal.GRA_NearestNeighbour,\n",
    "        'dem': gdal.GRA_Bilinear,\n",
    "        'ghsl_pop': gdal.GRA_Cubic,\n",
    "        'ghsl_built': gdal.GRA_Bilinear\n",
    "    }\n",
    "\n",
    "    # Traitement des rasters\n",
    "    output_files = {}\n",
    "    for name, input_path in tqdm(input_rasters.items()):\n",
    "        if not os.path.exists(input_path):\n",
    "            print(f\"Fichier introuvable\")\n",
    "            continue\n",
    "        output_path = os.path.join(output_dir, f'aligned_{name}.tif')\n",
    "\n",
    "        # Options spécifiques por le warp\n",
    "        warp_options = gdal.WarpOptions(\n",
    "            format='GTiff',\n",
    "            outputBounds = (min_x, min_y, max_x, max_y),\n",
    "            xRes=abs(new_res),\n",
    "            yRes=abs(new_res),\n",
    "            dstSRS=\"EPSG:32628\",\n",
    "            resampleAlg=resample_methods.get(name, gdal.GRA_Bilinear),\n",
    "            targetAlignedPixels=True,\n",
    "            creationOptions=[\n",
    "                'COMPRESS=DEFLATE',\n",
    "                'PREDICTOR=2' if name in ['dem', 'ghsl_pop'] else 'PREDICTOR=1',\n",
    "                'NUM_THREADS=ALL_CPUS'\n",
    "                ],\n",
    "                warpMemoryLimit=1021*1024*1024 # 1GB\n",
    "            \n",
    "        )\n",
    "        print(f'Traitement en cours: {name}...')\n",
    "        gdal.Warp(output_path, input_path, options=warp_options)\n",
    "        output_files[name] = output_path\n",
    "    # Nettoyage\n",
    "    if 'temp_ref_path' in locals():\n",
    "        os.remove(temp_ref_path)\n",
    "    ref_ds = None\n",
    "    \n",
    "    return output_files"
   ]
  },
  {
   "cell_type": "code",
   "execution_count": 19,
   "id": "9bb326f6-b603-4aa8-8f61-f125bb5f3290",
   "metadata": {},
   "outputs": [
    {
     "name": "stdout",
     "output_type": "stream",
     "text": [
      "Conversion de la référence en EPSG:32628\n"
     ]
    },
    {
     "name": "stderr",
     "output_type": "stream",
     "text": [
      "  0%|                                                     | 0/4 [00:00<?, ?it/s]"
     ]
    },
    {
     "name": "stdout",
     "output_type": "stream",
     "text": [
      "Triatement en cours: landcover...\n"
     ]
    },
    {
     "name": "stderr",
     "output_type": "stream",
     "text": [
      " 25%|███████████▎                                 | 1/4 [00:19<00:59, 19.77s/it]"
     ]
    },
    {
     "name": "stdout",
     "output_type": "stream",
     "text": [
      "Triatement en cours: dem...\n"
     ]
    },
    {
     "name": "stderr",
     "output_type": "stream",
     "text": [
      " 50%|██████████████████████▌                      | 2/4 [01:14<01:20, 40.05s/it]"
     ]
    },
    {
     "name": "stdout",
     "output_type": "stream",
     "text": [
      "Triatement en cours: ghsl_pop...\n"
     ]
    },
    {
     "name": "stderr",
     "output_type": "stream",
     "text": [
      " 75%|█████████████████████████████████           | 3/4 [04:32<01:52, 112.47s/it]"
     ]
    },
    {
     "name": "stdout",
     "output_type": "stream",
     "text": [
      "Triatement en cours: ghsl_built...\n"
     ]
    },
    {
     "name": "stderr",
     "output_type": "stream",
     "text": [
      "100%|█████████████████████████████████████████████| 4/4 [05:45<00:00, 86.37s/it]\n"
     ]
    },
    {
     "name": "stdout",
     "output_type": "stream",
     "text": [
      "\n",
      "Résultats de l'alignement:\n",
      "LANDCOVER       Data/aligned_landcover.tif\n",
      "DEM             Data/aligned_dem.tif\n",
      "GHSL_POP        Data/aligned_ghsl_pop.tif\n",
      "GHSL_BUILT      Data/aligned_ghsl_built.tif\n"
     ]
    }
   ],
   "source": [
    "data = {\n",
    "    'reference': 'Data/basin_built.tif',\n",
    "    'landcover': 'Data/basincover.tif',\n",
    "    'dem': 'Data/basin_dem.tif',\n",
    "    'ghsl_pop': 'Data/basin_pop.tif',\n",
    "    'ghsl_built': 'Data/basin_built.tif'\n",
    "}\n",
    "# Exéution de l'alignement\n",
    "results = align_rasters(\n",
    "    reference_path=data['reference'],\n",
    "    input_rasters={k: data[k] for k in ['landcover', 'dem', 'ghsl_pop', 'ghsl_built']},\n",
    "    output_dir='Data'\n",
    ")\n",
    "\n",
    "print(\"\\nRésultats de l'alignement:\")\n",
    "for name, path in results.items():\n",
    "    print(f\"{name.upper():<15} {path}\")"
   ]
  },
  {
   "cell_type": "markdown",
   "id": "755f3ed7-91e9-4df2-8199-f8a96e0191cd",
   "metadata": {},
   "source": [
    "#### d. Verification de l'alignement des rasters"
   ]
  },
  {
   "cell_type": "code",
   "execution_count": 13,
   "id": "942af598-6c8e-484e-a766-5493f12f2091",
   "metadata": {},
   "outputs": [
    {
     "name": "stdout",
     "output_type": "stream",
     "text": [
      "#############################################\n",
      "Propriétés\n",
      "Data/aligned_ghsl_built.tif a 21880 x 15706 comme dimension\n",
      "Driver: GTiff\n",
      "Nombre de bande: 1\n",
      "Les metadonnées: {'AREA_OR_POINT': 'Area'}\n",
      "Unité de la projection: metre 1.0\n",
      "Origine: (219033.12946546363, 1848953.0947196095)\n",
      "Size: (31.099407846864068 metre, -31.099407846864068 metre)\n",
      "Valeur minimale 0.0\n",
      "Valeur maximale 6599.0\n",
      "#############################################\n",
      "\n",
      "\n",
      "#############################################\n",
      "Propriétés\n",
      "Data/aligned_ghsl_pop.tif a 21880 x 15706 comme dimension\n",
      "Driver: GTiff\n",
      "Nombre de bande: 1\n",
      "Les metadonnées: {'AREA_OR_POINT': 'Area'}\n",
      "Unité de la projection: metre 1.0\n",
      "Origine: (219033.12946546363, 1848953.0947196095)\n",
      "Size: (31.099407846864068 metre, -31.099407846864068 metre)\n",
      "Valeur minimale -20.035439608458702\n",
      "Valeur maximale 439.70852641010066\n",
      "#############################################\n",
      "\n",
      "\n",
      "#############################################\n",
      "Propriétés\n",
      "Data/aligned_landcover.tif a 21880 x 15706 comme dimension\n",
      "Driver: GTiff\n",
      "Nombre de bande: 1\n",
      "Les metadonnées: {'AREA_OR_POINT': 'Area'}\n",
      "Unité de la projection: metre 1.0\n",
      "Origine: (219033.12946546363, 1848953.0947196095)\n",
      "Size: (31.099407846864068 metre, -31.099407846864068 metre)\n",
      "Valeur minimale 0.0\n",
      "Valeur maximale 95.0\n",
      "#############################################\n",
      "\n",
      "\n",
      "#############################################\n",
      "Propriétés\n",
      "Data/aligned_dem.tif a 21880 x 15706 comme dimension\n",
      "Driver: GTiff\n",
      "Nombre de bande: 1\n",
      "Les metadonnées: {'AREA_OR_POINT': 'Area'}\n",
      "Unité de la projection: metre 1.0\n",
      "Origine: (219033.12946546363, 1848953.0947196095)\n",
      "Size: (31.099407846864068 metre, -31.099407846864068 metre)\n",
      "Valeur minimale -27.0\n",
      "Valeur maximale 697.0\n",
      "#############################################\n",
      "\n",
      "\n"
     ]
    }
   ],
   "source": [
    "aligned_raster_paths = glob.glob('Data/aligned*.tif')\n",
    "for path in aligned_raster_paths:\n",
    "    \n",
    "    gdal_properties(path)\n",
    "    print('\\n')"
   ]
  },
  {
   "cell_type": "markdown",
   "id": "95003284-cef3-4a3a-97c2-79b50a1bd927",
   "metadata": {},
   "source": [
    "#### e. Conversion\n",
    "les coordonées GPS(longitude, latitude) des stations Hydrometrique doivent être convertis en coordonnées image(ligne, colonne).\n",
    "La conversion est nécessaire lorsqu'on travaille avec des rasters(comme un MNT, un LDD).\n",
    "- Station Kégoudou (-12.1833, 12.55)\n",
    "- Station Mako (-12.35, 12.8667)"
   ]
  },
  {
   "cell_type": "code",
   "execution_count": 35,
   "id": "78cf9e2d-46b2-4209-879f-f408013017f5",
   "metadata": {},
   "outputs": [
    {
     "name": "stdout",
     "output_type": "stream",
     "text": [
      "Convertir Géo a Pixel\n"
     ]
    },
    {
     "data": {
      "text/plain": [
       "(18282, 13668)"
      ]
     },
     "execution_count": 35,
     "metadata": {},
     "output_type": "execute_result"
    }
   ],
   "source": [
    "#définition d'une fonction de conversion des coordonnées géographiques en indice de pixel ou inversement\n",
    "def geoToPixel(x, y, geotransform, inverse=False):\n",
    "    # D'abord on va convertir les coordonnées géographiques en coordonnées projetées\n",
    "    def gps_to_utm(x, y): #fonction pour convertir les coordonnées géographiques en coordonnées projetées\n",
    "        transformer_wgs = Transformer.from_crs(\"EPSG:4326\", \"EPSG:32628\", always_xy=True)\n",
    "        \n",
    "        x_proj, y_proj = transformer_wgs.transform(x, y)\n",
    "        return [x_proj, y_proj]\n",
    "        \n",
    "    if inverse is True:\n",
    "        print(\"Convertir Pixel à Géo\")\n",
    "        xcoord = geotransform[0] + x * geotransform[1]\n",
    "        ycoord = geotransform[3] + y * geotransform[5]\n",
    "        \n",
    "    elif inverse is False:\n",
    "       x_utm, y_utm = gps_to_utm(x, y)\n",
    "       print(\"Convertir Géo a Pixel\")\n",
    "       xcoord = int((x_utm - geotransform[0]) / geotransform[1])\n",
    "       ycoord = int((y_utm - geotransform[3]) / geotransform[5])\n",
    "    else:\n",
    "        print(\"le raster n'a pas de trasnformation\")\n",
    "    return xcoord, ycoord\n",
    "#tester la fonction sur notre raster\n",
    "# Choisir un GeoTransformation à partir de nos raster\n",
    "geotransform = gdal.Open('Data/aligned_dem.tif').GetGeoTransform()\n",
    "kedougou = geoToPixel(-12.35, 12.8667, geotransform)\n",
    "mako = geoToPixel(-12.35, 12.8667, geotransform)\n",
    "print(f\"Station Kédougou en Coordonées image {kedougou}\")\n",
    "print(f\"Station Mako en Coordonées image {mako}\")"
   ]
  },
  {
   "cell_type": "markdown",
   "id": "3253f579-4c32-47f8-aafd-e37575acea88",
   "metadata": {},
   "source": [
    "#### f. Traduction les fichiers GeoTiff déja alignés en fichier pcraster(.map)"
   ]
  },
  {
   "cell_type": "code",
   "execution_count": 28,
   "id": "99827b76-61b8-4e5c-8d42-56a4eb9fab79",
   "metadata": {},
   "outputs": [],
   "source": [
    "# Définition de la fonction de conversion\n",
    "def convert_to_pcraster(input_filename, output_filename, gdal_type,value_scale):\n",
    "\n",
    "    gdal.SetConfigOption(\"PCRASTER_VALUESCLAE\", value_scale)\n",
    "    gdal.UseExceptions()\n",
    "    src_ds = gdal.Open(input_filename, gdalconst.GA_ReadOnly)\n",
    "    \n",
    "    gdal.Translate(output_filename, src_ds, format=\"PCRaster\", outputType=gdal_type, metadataOptions=[f\"VALUESCALE={value_scale}\"])#creationOptions=[f\"VALUESCALE={value_scale}\"])\n",
    "    print(f\"Converti : {input_filename} en {output_filename}\")\n",
    "    \n",
    "    #GDAL Translate\n",
    "    #dst_ds = gdal.Translate(dst_filename, src_ds, format='PCRaster', outputType=ot, metadataOptions=VS)\n",
    "    \n",
    "    #Properly close the datasets to flush to disk\n",
    "    dst_ds = None\n",
    "    src_ds = None\n",
    "    \n"
   ]
  },
  {
   "cell_type": "code",
   "execution_count": 29,
   "id": "599e7c58-ce8f-4370-b4a2-feabbec8c1b5",
   "metadata": {},
   "outputs": [
    {
     "name": "stdout",
     "output_type": "stream",
     "text": [
      "Converti : Data/aligned_dem.tif en Data/dem.map\n",
      "Converti : Data/aligned_landcover.tif en Data/landcover.map\n",
      "Converti : Data/aligned_ghsl_built.tif en Data/ghsl_built.map\n",
      "Converti : Data/aligned_ghsl_pop.tif en Data/ghsl_pop.map\n"
     ]
    }
   ],
   "source": [
    "# Exécution de de la fonction de conversion des fichiers .tif en .map\n",
    "input_filenames = {\n",
    "    'Data/aligned_dem.tif': {\n",
    "        'output': 'Data/dem.map',\n",
    "        'value_scale': 'VS_SCALAR',\n",
    "        'gdal_type': gdalconst.GDT_Float32\n",
    "    },\n",
    "    'Data/aligned_landcover.tif': {\n",
    "        'output': 'Data/landcover.map',\n",
    "        'value_scale': 'VS_NOMINAL',\n",
    "        'gdal_type': gdalconst.GDT_Byte\n",
    "    },\n",
    "'Data/aligned_ghsl_built.tif': {\n",
    "        'output': 'Data/ghsl_built.map',\n",
    "        'value_scale': 'VS_SCALAR',\n",
    "        'gdal_type': gdalconst.GDT_Float32\n",
    "    },\n",
    "'Data/aligned_ghsl_pop.tif': {\n",
    "        'output': 'Data/ghsl_pop.map',\n",
    "        'value_scale': 'VS_SCALAR',\n",
    "        'gdal_type': gdalconst.GDT_Float32\n",
    "    }\n",
    "}\n",
    "# Lancer les conversations\n",
    "for filename, infos in input_filenames.items():\n",
    "    convert_to_pcraster(input_filename=filename,\n",
    "                       output_filename=infos['output'],\n",
    "                       value_scale=infos['value_scale'],\n",
    "                       gdal_type=infos['gdal_type'])\n"
   ]
  },
  {
   "cell_type": "markdown",
   "id": "c1d4f338-104d-4a02-8782-ec79c83d05a0",
   "metadata": {},
   "source": [
    "#### g. Génération de LDD (Local Drain Direction)\n",
    "Le LDD est une composante fondamentale dans toute modélisation hydrologique. Il représente, pour chaque cellule du MNT, la direction dans laquelle l'eau s'écoule vers une cellule voisine. Cette structure est indispensable pour simuler le ruissellement, l'accumulation ou les inondations."
   ]
  },
  {
   "cell_type": "code",
   "execution_count": 9,
   "id": "4efe9b56-60e7-4196-9d8e-99891f8050c6",
   "metadata": {},
   "outputs": [
    {
     "ename": "MemoryError",
     "evalue": "std::bad_alloc",
     "output_type": "error",
     "traceback": [
      "\u001b[0;31m---------------------------------------------------------------------------\u001b[0m",
      "\u001b[0;31mMemoryError\u001b[0m                               Traceback (most recent call last)",
      "Cell \u001b[0;32mIn[9], line 4\u001b[0m\n\u001b[1;32m      1\u001b[0m \u001b[38;5;66;03m#pcr.setclone('Data/dem.map')\u001b[39;00m\n\u001b[1;32m      2\u001b[0m \u001b[38;5;66;03m#os.environ['PCRASTER_MEMORY_LIMIT'] = \"6GB\"\u001b[39;00m\n\u001b[0;32m----> 4\u001b[0m dem \u001b[38;5;241m=\u001b[39m \u001b[43mpcr\u001b[49m\u001b[38;5;241;43m.\u001b[39;49m\u001b[43mreadmap\u001b[49m\u001b[43m(\u001b[49m\u001b[38;5;124;43m'\u001b[39;49m\u001b[38;5;124;43mData/ghsl_built.map\u001b[39;49m\u001b[38;5;124;43m'\u001b[39;49m\u001b[43m)\u001b[49m\n\u001b[1;32m      5\u001b[0m \u001b[38;5;66;03m#ldd = pcr.lddcreate(dem, 1e13, 1e13, 1e13, 1e13)\u001b[39;00m\n\u001b[1;32m      6\u001b[0m \u001b[38;5;66;03m#pcr.report(ldd, 'Data/ldd.map')\u001b[39;00m\n",
      "\u001b[0;31mMemoryError\u001b[0m: std::bad_alloc"
     ]
    }
   ],
   "source": [
    "#pcr.setclone('Data/dem.map')\n",
    "#os.environ['PCRASTER_MEMORY_LIMIT'] = \"6GB\"\n",
    "\n",
    "dem = pcr.readmap('Data/ghsl_built.map')\n",
    "#ldd = pcr.lddcreate(dem, 1e13, 1e13, 1e13, 1e13)\n",
    "#pcr.report(ldd, 'Data/ldd.map')"
   ]
  },
  {
   "cell_type": "code",
   "execution_count": 6,
   "id": "79367c36-a912-4e81-8fd8-9768ff9d4cbf",
   "metadata": {},
   "outputs": [
    {
     "ename": "AttributeError",
     "evalue": "'Dataset' object has no attribute 'GetBand'",
     "output_type": "error",
     "traceback": [
      "\u001b[0;31m---------------------------------------------------------------------------\u001b[0m",
      "\u001b[0;31mAttributeError\u001b[0m                            Traceback (most recent call last)",
      "Cell \u001b[0;32mIn[6], line 2\u001b[0m\n\u001b[1;32m      1\u001b[0m dem \u001b[38;5;241m=\u001b[39m gdal\u001b[38;5;241m.\u001b[39mOpen(\u001b[38;5;124m'\u001b[39m\u001b[38;5;124mData/aligned_dem.tif\u001b[39m\u001b[38;5;124m'\u001b[39m)\n\u001b[0;32m----> 2\u001b[0m band \u001b[38;5;241m=\u001b[39m \u001b[43mdem\u001b[49m\u001b[38;5;241;43m.\u001b[39;49m\u001b[43mGetBand\u001b[49m(\u001b[38;5;241m1\u001b[39m)\n",
      "\u001b[0;31mAttributeError\u001b[0m: 'Dataset' object has no attribute 'GetBand'"
     ]
    }
   ],
   "source": [
    "dem = gdal.Open('Data/aligned_dem.tif')\n",
    "band = dem.GetBand(1)"
   ]
  },
  {
   "cell_type": "code",
   "execution_count": 5,
   "id": "0cbcdebe",
   "metadata": {},
   "outputs": [
    {
     "data": {
      "text/plain": [
       "['AbortSQL',\n",
       " 'AddBand',\n",
       " 'AddFieldDomain',\n",
       " 'AddRelationship',\n",
       " 'AdviseRead',\n",
       " 'BeginAsyncReader',\n",
       " 'BuildOverviews',\n",
       " 'ClearStatistics',\n",
       " 'Close',\n",
       " 'CommitTransaction',\n",
       " 'CopyLayer',\n",
       " 'CreateLayer',\n",
       " 'CreateLayerFromGeomFieldDefn',\n",
       " 'CreateMaskBand',\n",
       " 'DeleteFieldDomain',\n",
       " 'DeleteLayer',\n",
       " 'DeleteRelationship',\n",
       " 'Destroy',\n",
       " 'EndAsyncReader',\n",
       " 'ExecuteSQL',\n",
       " 'FlushCache',\n",
       " 'GetDescription',\n",
       " 'GetDriver',\n",
       " 'GetFieldDomain',\n",
       " 'GetFieldDomainNames',\n",
       " 'GetFileList',\n",
       " 'GetGCPCount',\n",
       " 'GetGCPProjection',\n",
       " 'GetGCPSpatialRef',\n",
       " 'GetGCPs',\n",
       " 'GetGeoTransform',\n",
       " 'GetLayer',\n",
       " 'GetLayerByIndex',\n",
       " 'GetLayerByName',\n",
       " 'GetLayerCount',\n",
       " 'GetMetadata',\n",
       " 'GetMetadataDomainList',\n",
       " 'GetMetadataItem',\n",
       " 'GetMetadata_Dict',\n",
       " 'GetMetadata_List',\n",
       " 'GetName',\n",
       " 'GetNextFeature',\n",
       " 'GetProjection',\n",
       " 'GetProjectionRef',\n",
       " 'GetRasterBand',\n",
       " 'GetRefCount',\n",
       " 'GetRelationship',\n",
       " 'GetRelationshipNames',\n",
       " 'GetRootGroup',\n",
       " 'GetSpatialRef',\n",
       " 'GetStyleTable',\n",
       " 'GetSubDatasets',\n",
       " 'GetSummaryRefCount',\n",
       " 'GetThreadSafeDataset',\n",
       " 'GetTiledVirtualMem',\n",
       " 'GetTiledVirtualMemArray',\n",
       " 'GetVirtualMem',\n",
       " 'GetVirtualMemArray',\n",
       " 'IsLayerPrivate',\n",
       " 'IsThreadSafe',\n",
       " 'RasterCount',\n",
       " 'RasterXSize',\n",
       " 'RasterYSize',\n",
       " 'ReadAsArray',\n",
       " 'ReadRaster',\n",
       " 'ReadRaster1',\n",
       " 'Release',\n",
       " 'ReleaseResultSet',\n",
       " 'ResetReading',\n",
       " 'RollbackTransaction',\n",
       " 'SetDescription',\n",
       " 'SetGCPs',\n",
       " 'SetGeoTransform',\n",
       " 'SetMetadata',\n",
       " 'SetMetadataItem',\n",
       " 'SetProjection',\n",
       " 'SetSpatialRef',\n",
       " 'SetStyleTable',\n",
       " 'StartTransaction',\n",
       " 'SyncToDisk',\n",
       " 'TestCapability',\n",
       " 'UpdateFieldDomain',\n",
       " 'UpdateRelationship',\n",
       " 'WriteArray',\n",
       " 'WriteRaster',\n",
       " '_SetGCPs',\n",
       " '_SetGCPs2',\n",
       " '__bool__',\n",
       " '__class__',\n",
       " '__del__',\n",
       " '__delattr__',\n",
       " '__dict__',\n",
       " '__dir__',\n",
       " '__doc__',\n",
       " '__enter__',\n",
       " '__eq__',\n",
       " '__exit__',\n",
       " '__format__',\n",
       " '__ge__',\n",
       " '__getattribute__',\n",
       " '__getitem__',\n",
       " '__gt__',\n",
       " '__hash__',\n",
       " '__init__',\n",
       " '__init_subclass__',\n",
       " '__iter__',\n",
       " '__le__',\n",
       " '__len__',\n",
       " '__lt__',\n",
       " '__module__',\n",
       " '__ne__',\n",
       " '__new__',\n",
       " '__reduce__',\n",
       " '__reduce_ex__',\n",
       " '__repr__',\n",
       " '__setattr__',\n",
       " '__sizeof__',\n",
       " '__str__',\n",
       " '__subclasshook__',\n",
       " '__swig_destroy__',\n",
       " '__weakref__',\n",
       " '_add_child_ref',\n",
       " '_invalidate_children',\n",
       " 'this',\n",
       " 'thisown']"
      ]
     },
     "execution_count": 5,
     "metadata": {},
     "output_type": "execute_result"
    }
   ],
   "source": [
    "dir(dem)"
   ]
  },
  {
   "cell_type": "code",
   "execution_count": null,
   "id": "69270c6a",
   "metadata": {},
   "outputs": [],
   "source": []
  }
 ],
 "metadata": {
  "kernelspec": {
   "display_name": "Python 3 (ipykernel)",
   "language": "python",
   "name": "python3"
  },
  "language_info": {
   "codemirror_mode": {
    "name": "ipython",
    "version": 3
   },
   "file_extension": ".py",
   "mimetype": "text/x-python",
   "name": "python",
   "nbconvert_exporter": "python",
   "pygments_lexer": "ipython3",
   "version": "3.9.21"
  }
 },
 "nbformat": 4,
 "nbformat_minor": 5
}
