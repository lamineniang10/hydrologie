{
 "cells": [
  {
   "cell_type": "markdown",
   "id": "04c9d7ea-54c5-4937-b36d-0f4e61c32718",
   "metadata": {},
   "source": [
    "### 1. Titre du projet\n",
    "Evaluation  des zones inondables dans le bassin du fleuve Gambie à partir d'un scénario de crue localisée - Cas de la station de Kédougou (Juillet 2024)"
   ]
  },
  {
   "cell_type": "markdown",
   "id": "1639e8ec-0b66-4ba8-8932-779fcdffb26d",
   "metadata": {},
   "source": [
    "### 2. Contexte et objectif\n",
    "Ce projet vise à localiser les zones critiques en aval de la station de Kédougou en croisant le MNT, l'occupation du sol et les données GHSL"
   ]
  },
  {
   "cell_type": "markdown",
   "id": "92e460fa-b281-447b-88b2-14e2b1f72571",
   "metadata": {},
   "source": [
    "### 3. Données utilisées\n",
    "- MNT du bassin versant du fleuve Gambie\n",
    "- Landcover ESA WorldCover \n",
    "- Données GHSL (population et surface bâtie)\n",
    "- Données de crue ()\n",
    "  * Nivau d'alerte (Juillet 2024):\n",
    "  * Niveau observé :\n",
    "  * Ecart modélisé"
   ]
  },
  {
   "cell_type": "markdown",
   "id": "dd8f8176-8f62-4246-9041-8dbd3f62bbae",
   "metadata": {},
   "source": [
    "### 4. Technologies utilisées\n",
    "- PCRaser: moteur principal de simulation pour la modélisation hydrologique, nottamment les fonctions accucapacityflux, accucapacitystate, spreadzone, ldd, etc.\n",
    "- GDAL: convertion et manipulation de fichier raster (GeoTiff vers .map, reprojection, extraction de métadonnées).\n",
    "- Numpy: manipulation efficace de matrice (ex. pour les conversions intermédiares ou calculs personnalisés).\n",
    "- Matplotlib: visualisation des résultats(cartes des zones inondables, évolution temporelle).\n",
    "- Jupyter notebook: environnement interactif pour tester, visualiser et documenter les simulations"
   ]
  },
  {
   "cell_type": "markdown",
   "id": "805d51b5-bf40-4785-b72d-3b2f54729abf",
   "metadata": {},
   "source": [
    "### 5. Choix d'un modèle dynamique\n",
    "Pour simuler le processus d'inondation sur le bassin Gambie, nous avons choisi d'utiliser un **modèle dynamique PCRaster** basé sur la classe `DynamicModel`.\n",
    "#### Pourquoi un modèle dynamique?\n",
    "- **Evolution temporelle** : Les phénomènes hydrologiques(écoulement, inondation, ruissellement) sont dépendants du temps. Le modèle dynamique permet d'intégrer cette évolution pas à pas.\n",
    "- **Simulation réaliste** : Il permet d'observer l'impact cumulé des précipitation, de la topographie, de l'occupation du sol, etc sur la propagation de l'eau.\n",
    "- **Flexibilité** : Grâce aux itérations temporelles, il est possible d'intégrer des paramètres variables dans le temps(ex. précipitations journalières, gestion des barrages, etc.).\n",
    "Ce modèle est donc adapté pour reproduire et analyser le comportement spatial et  temporel des inondations dans le bassin."
   ]
  },
  {
   "cell_type": "markdown",
   "id": "452a39ca-bbba-4e9f-a06e-3b9e7aa7097b",
   "metadata": {},
   "source": [
    "### 6. Séparation des traitement statiques et dynamiques\n",
    "Dans un souci de performation et de modularité, certains traitements geospataux lourds ou invariant ont été externalisés de la classe `DynamicModel`. L'objectif est de les exécuter une seule fois en amont, puis sauvegarder les résultats pour les réutilisés dans la simulation dynamiques"
   ]
  },
  {
   "cell_type": "markdown",
   "id": "bbfe96a5-9bdd-4c30-a44e-a406fb146c0c",
   "metadata": {},
   "source": [
    "### 7. Traitements préalables effectués hors de `DynamicModel`"
   ]
  },
  {
   "cell_type": "markdown",
   "id": "22a22bf5-e94f-409e-bd71-5b8a405e13ae",
   "metadata": {},
   "source": [
    "#### a. Importation des bibliothèques python"
   ]
  },
  {
   "cell_type": "code",
   "execution_count": 1,
   "id": "2cde19b5-f8b5-447d-bca0-7ea0c59509bb",
   "metadata": {},
   "outputs": [],
   "source": [
    "import pcraster as pcr\n",
    "import numpy as np\n",
    "import glob\n",
    "import os\n",
    "import matplotlib.pyplot as plt\n",
    "from osgeo import gdal, osr, gdalconst\n",
    "from tqdm import tqdm # pour une barre de progression\n",
    "from pyproj import Transformer\n",
    "from riverrem.REMMaker import REMMaker\n",
    "import math\n",
    "gdal.UseExceptions()"
   ]
  },
  {
   "cell_type": "code",
   "execution_count": 3,
   "id": "e2057959",
   "metadata": {},
   "outputs": [],
   "source": [
    "#rem_maker = REMMaker(dem='Data/basincover.tif', out_dir='./Data')\n",
    "#rem_maker.make_rem()\n",
    "#rem_maker.make_rem_viz(cmap='topo')"
   ]
  },
  {
   "cell_type": "code",
   "execution_count": 2,
   "id": "542d5f86-c08e-4777-a29e-a56d30224dad",
   "metadata": {},
   "outputs": [],
   "source": [
    "#dem = gdal.Open('Data/basin_dem.tif') # le Modèle Numérique Terrestre\n",
    "#landcover = gdal.Open('Data/basincover.tif') # les données sur l'occupation du sol\n",
    "#ghsl_built = gdal.Open('Data/basin_built.tif') # les données GHSL de la distribution des surfaces urbanisées (bâties), exprimées en mètres carrés 2020\n",
    "#ghsl_pop = gdal.Open('Data/basin_pop.tif') # les données GHSL de la distribution spatiale de la population en 2020"
   ]
  },
  {
   "cell_type": "markdown",
   "id": "1d46dc26-9789-4331-9f63-4542378b85ea",
   "metadata": {},
   "source": [
    "#### b. Imporation des données et affichage des proprietés de nos dataset"
   ]
  },
  {
   "cell_type": "code",
   "execution_count": 4,
   "id": "e1c7175f-8239-4b29-a6ae-9b0ac2034fed",
   "metadata": {},
   "outputs": [],
   "source": [
    "# Fonction pour l'affichage des proprietés des datasets\n",
    "def gdal_properties(input_path): # Affichier les proprietés pour chaque fichier\n",
    "    if not os.path.exists(input_path):\n",
    "        raise ValueError(f\"Fichier introuvable\")\n",
    "    raster = gdal.Open(input_path)\n",
    "    path = raster.GetDescription()\n",
    "    width = raster.RasterXSize\n",
    "    height = raster.RasterYSize\n",
    "    projection = raster.GetProjection()\n",
    "    geotransform = raster.GetGeoTransform()\n",
    "    metadata = raster.GetMetadata()\n",
    "    numband = raster.RasterCount # chacune de nos rasters ne renferme qu'une bande\n",
    "    \n",
    "    band = raster.GetRasterBand(1)\n",
    "    data_type = band.DataType\n",
    "    data_type_name = gdal.GetDataTypeName(data_type)\n",
    "    print(f\"Le type de données de la bande 1: {data_type_name}\")\n",
    "    driver = raster.GetDriver().ShortName\n",
    "    print(\"#############################################\")\n",
    "    print('Propriétés')\n",
    "    print(f\"{path} a {width} x {height} comme dimension\")\n",
    "    print(f\"Driver: {driver}\")\n",
    "    print(f\"Nombre de bande: {numband}\")\n",
    "    print(f\"Les metadonnées: {metadata}\")\n",
    "\n",
    "    srs = osr.SpatialReference() \n",
    "    srs.ImportFromWkt(projection)\n",
    "    epsg_code = srs.GetAuthorityCode(None)\n",
    "    unit_name = \"Degree\" if epsg_code == \"4326\" else srs.GetLinearUnitsName()\n",
    "    unit_value = srs.GetLinearUnits()\n",
    "    print(f\"Unité de la projection: {unit_name} {unit_value}\")\n",
    "\n",
    "    if geotransform:\n",
    "        \n",
    "        print(f\"Origine: ({geotransform[0]}, {geotransform[3]})\")\n",
    "        print(f\"Size: ({geotransform[1]} {unit_name}, {geotransform[5]} {unit_name})\")\n",
    "    layerBand = raster.GetRasterBand(1)\n",
    "    min_value, max_value = layerBand.ComputeRasterMinMax()\n",
    "    print(f\"Valeur minimale {min_value}\")\n",
    "    print(f\"Valeur maximale {max_value}\")\n",
    "    print(\"#############################################\")\n",
    "    raster = None"
   ]
  },
  {
   "cell_type": "code",
   "execution_count": 4,
   "id": "ddedcb99-70f1-485e-abc1-3db933d3428d",
   "metadata": {},
   "outputs": [
    {
     "name": "stdout",
     "output_type": "stream",
     "text": [
      "Le type de données de la bande 1: UInt16\n",
      "#############################################\n",
      "Propriétés\n",
      "Data/basin_built.tif a 20060 x 17852 comme dimension\n",
      "Driver: GTiff\n",
      "Nombre de bande: 1\n",
      "Les metadonnées: {'AREA_OR_POINT': 'Area'}\n",
      "Unité de la projection: m 1.0\n",
      "Origine: (-1721000.0, 2052780.0)\n",
      "Size: (30.0 m, -30.0 m)\n",
      "Valeur minimale 0.0\n",
      "Valeur maximale 6599.0\n",
      "#############################################\n",
      "\n",
      "\n",
      "Le type de données de la bande 1: Int16\n",
      "#############################################\n",
      "Propriétés\n",
      "Data/basin_dem.tif a 18137 x 12359 comme dimension\n",
      "Driver: GTiff\n",
      "Nombre de bande: 1\n",
      "Les metadonnées: {'AREA_OR_POINT': 'Area'}\n",
      "Unité de la projection: Degree 1.0\n",
      "Origine: (-16.15022041715082, 14.68830289986267)\n",
      "Size: (0.0002694945852358564 Degree, -0.0002694945852358564 Degree)\n",
      "Valeur minimale -29.0\n",
      "Valeur maximale 1530.0\n",
      "#############################################\n",
      "\n",
      "\n",
      "Le type de données de la bande 1: Float64\n",
      "#############################################\n",
      "Propriétés\n",
      "Data/basin_pop.tif a 15897 x 13590 comme dimension\n",
      "Driver: GTiff\n",
      "Nombre de bande: 1\n",
      "Les metadonnées: {'AREA_OR_POINT': 'Area'}\n",
      "Unité de la projection: m 1.0\n",
      "Origine: (-1591130.0, 1808490.0)\n",
      "Size: (30.0 m, -30.0 m)\n",
      "Valeur minimale 0.0\n",
      "Valeur maximale 418.5404357910156\n",
      "#############################################\n",
      "\n",
      "\n",
      "Le type de données de la bande 1: Byte\n",
      "#############################################\n",
      "Propriétés\n",
      "Data/basincover.tif a 18137 x 12358 comme dimension\n",
      "Driver: GTiff\n",
      "Nombre de bande: 1\n",
      "Les metadonnées: {'AREA_OR_POINT': 'Area'}\n",
      "Unité de la projection: Degree 1.0\n",
      "Origine: (-16.15025661703686, 14.688148634019598)\n",
      "Size: (0.00026949458523585647 Degree, -0.00026949458523585647 Degree)\n",
      "Valeur minimale 0.0\n",
      "Valeur maximale 95.0\n",
      "#############################################\n",
      "\n",
      "\n",
      "Le type de données de la bande 1: Int16\n",
      "#############################################\n",
      "Propriétés\n",
      "Data/basin_dem_modifie.tif a 18137 x 12359 comme dimension\n",
      "Driver: GTiff\n",
      "Nombre de bande: 1\n",
      "Les metadonnées: {'AREA_OR_POINT': 'Area'}\n",
      "Unité de la projection: Degree 1.0\n",
      "Origine: (-16.15022041715082, 14.68830289986267)\n",
      "Size: (0.0002694945852358564 Degree, -0.0002694945852358564 Degree)\n",
      "Valeur minimale -29.0\n",
      "Valeur maximale 1530.0\n",
      "#############################################\n",
      "\n",
      "\n"
     ]
    }
   ],
   "source": [
    "basin_raster_paths = glob.glob('Data/basin*.tif') # Charger les fichiers geotiff\n",
    "for path in basin_raster_paths:\n",
    "    \n",
    "    gdal_properties(path)\n",
    "    print('\\n')"
   ]
  },
  {
   "cell_type": "markdown",
   "id": "ecfb003b-46d6-4360-8529-288df5889796",
   "metadata": {},
   "source": [
    "#### c. Alignement des rasters\n",
    "Pour une cohérence spatiales, une interopérabilité entre les données et une optimisation des calculs, on va aligner nos rasters sur une même grille, avec:\n",
    "- une projection commune(EPSG:32628 - UTM Zone 28N)\n",
    "- Une résolution fixe (100m). Le choix de cette résolution repose sur un compromis entre la capacité de traitement disponible et une précision géographique. Une résolution fine (30m, 10m) offrirait plus de détails mais générerait des rasters de grande taille difficillement manipulables dans une environnement contraint comme mon ordinateur personnel avec une RAM(2Go) un processeur(Intel celeron CPU N3050) limité.\n",
    "- Une origine spatiale commune bassée sur le MNT Projeté\n",
    "\n",
    "Etape 1: Reprojection du MNT"
   ]
  },
  {
   "cell_type": "code",
   "execution_count": 5,
   "id": "bdf4d464",
   "metadata": {},
   "outputs": [],
   "source": [
    "def reproject_raster_get_origin(input_raster, target_epsg=32628, resolution=30):\n",
    "    output_raster = \"Data/mnt_utm.tif\"\n",
    "    warp_options = gdal.WarpOptions(\n",
    "        dstSRS=f\"EPSG:{target_epsg}\",\n",
    "        xRes=resolution,\n",
    "        yRes=resolution,\n",
    "        resampleAlg='bilinear'\n",
    "    )\n",
    "    gdal.Warp(output_raster, input_raster, options=warp_options)\n",
    "\n",
    "    ds = gdal.Open(output_raster)\n",
    "    gt = ds.GetGeoTransform()\n",
    "    origin_x = gt[0]\n",
    "    origin_y = gt[3]\n",
    "    width = ds.RasterXSize\n",
    "    height = ds.RasterYSize\n",
    "    ds = None\n",
    "    return origin_x, origin_y, width, height, output_raster\n"
   ]
  },
  {
   "cell_type": "markdown",
   "id": "07355b22",
   "metadata": {},
   "source": [
    "Etape 2: Alignement des autres rasters"
   ]
  },
  {
   "cell_type": "code",
   "execution_count": 6,
   "id": "f230dc82",
   "metadata": {},
   "outputs": [],
   "source": [
    "def align_raster(input_raster, output_raster, reference_epsg, resolution, origin_x, origin_y, width, height, resampleAlg):\n",
    "    warp_options = gdal.WarpOptions(\n",
    "        dstSRS=f\"EPSG:{reference_epsg}\",\n",
    "        xRes=resolution,\n",
    "        yRes=resolution,\n",
    "        outputBounds=(\n",
    "            origin_x,\n",
    "            origin_y - resolution * height,\n",
    "            origin_x + resolution * width,\n",
    "            origin_y\n",
    "        ),\n",
    "        width=width,\n",
    "        height=height,\n",
    "        resampleAlg=resampleAlg\n",
    "    )\n",
    "    gdal.Warp(output_raster, input_raster, options=warp_options)\n",
    "    \n",
    "    print(f\"Raster reprojeté et aligné sauvegardé : {output_raster}\")\n",
    "    print('\\n')\n"
   ]
  },
  {
   "cell_type": "markdown",
   "id": "ccb6ebc8",
   "metadata": {},
   "source": [
    "Etape 3: Utilisation"
   ]
  },
  {
   "cell_type": "code",
   "execution_count": 7,
   "id": "a811d0b8",
   "metadata": {},
   "outputs": [
    {
     "name": "stderr",
     "output_type": "stream",
     "text": [
      " 25%|███████████▎                                 | 1/4 [00:11<00:33, 11.09s/it]"
     ]
    },
    {
     "name": "stdout",
     "output_type": "stream",
     "text": [
      "Raster reprojeté et aligné sauvegardé : Data/Aligned_rasters/mnt_aligned.tif\n",
      "\n",
      "\n"
     ]
    },
    {
     "name": "stderr",
     "output_type": "stream",
     "text": [
      "\r",
      " 50%|██████████████████████▌                      | 2/4 [00:14<00:13,  6.53s/it]"
     ]
    },
    {
     "name": "stdout",
     "output_type": "stream",
     "text": [
      "Raster reprojeté et aligné sauvegardé : Data/Aligned_rasters/landcover_aligned.tif\n",
      "\n",
      "\n"
     ]
    },
    {
     "name": "stderr",
     "output_type": "stream",
     "text": [
      "\r",
      " 75%|█████████████████████████████████▊           | 3/4 [00:23<00:07,  7.58s/it]"
     ]
    },
    {
     "name": "stdout",
     "output_type": "stream",
     "text": [
      "Raster reprojeté et aligné sauvegardé : Data/Aligned_rasters/ghsl_built_aligned.tif\n",
      "\n",
      "\n"
     ]
    },
    {
     "name": "stderr",
     "output_type": "stream",
     "text": [
      "100%|█████████████████████████████████████████████| 4/4 [01:22<00:00, 20.55s/it]"
     ]
    },
    {
     "name": "stdout",
     "output_type": "stream",
     "text": [
      "Raster reprojeté et aligné sauvegardé : Data/Aligned_rasters/ghsl_pop_aligned.tif\n",
      "\n",
      "\n"
     ]
    },
    {
     "name": "stderr",
     "output_type": "stream",
     "text": [
      "\n"
     ]
    }
   ],
   "source": [
    "# Reprojection du MNT et extraction des métadonnées\n",
    "mnt_path = 'Data/basin_dem.tif'\n",
    "origin_x, origin_y, width, height, mnt_reprojected = reproject_raster_get_origin(mnt_path)\n",
    "\n",
    "# Alignment des autre rasters\n",
    "input_data = {\n",
    "    'mnt': {\n",
    "        'input_path': 'Data/basin_dem.tif',\n",
    "        'output_path': 'Data/Aligned_rasters/mnt_aligned.tif',  # Donnée continue (altitude)\n",
    "        'resampleAlg': 'bilinear'\n",
    "    },\n",
    "    'landcover': {\n",
    "        'input_path': 'Data/basincover.tif',\n",
    "        'output_path': 'Data/Aligned_rasters/landcover_aligned.tif',  # Donnée discret (occupation du sol)\n",
    "        'resampleAlg': 'near'\n",
    "    },\n",
    "    'ghsl_built': {\n",
    "        'input_path': 'Data/basin_built.tif',\n",
    "        'output_path': 'Data/Aligned_rasters/ghsl_built_aligned.tif',  # Donnée continue (surface bâtie)\n",
    "        'resampleAlg': 'bilinear'\n",
    "    },\n",
    "    'ghsl_pop': {\n",
    "        'input_path': 'Data/basin_pop.tif',\n",
    "        'output_path': 'Data/Aligned_rasters/ghsl_pop_aligned.tif',  # Donnée continue (population)\n",
    "        'resampleAlg': 'bilinear'\n",
    "    }\n",
    "}\n",
    "for name, infos in tqdm(input_data.items()): # tqdm permet d'aficher la progression\n",
    "    align_raster(\n",
    "        input_raster=infos['input_path'],\n",
    "        output_raster=infos['output_path'],\n",
    "        reference_epsg=32628,\n",
    "        resolution=100,\n",
    "        origin_x=origin_x,\n",
    "        origin_y=origin_y,\n",
    "        width=width,\n",
    "        height=height,\n",
    "        resampleAlg=infos['resampleAlg']\n",
    "    )\n"
   ]
  },
  {
   "cell_type": "code",
   "execution_count": null,
   "id": "8cb10331-017d-40ef-b64f-48adcdf4a0fc",
   "metadata": {},
   "outputs": [],
   "source": []
  },
  {
   "cell_type": "code",
   "execution_count": null,
   "id": "9bb326f6-b603-4aa8-8f61-f125bb5f3290",
   "metadata": {},
   "outputs": [],
   "source": []
  },
  {
   "cell_type": "markdown",
   "id": "755f3ed7-91e9-4df2-8199-f8a96e0191cd",
   "metadata": {},
   "source": [
    "#### d. Verification de l'alignement des rasters"
   ]
  },
  {
   "cell_type": "code",
   "execution_count": 8,
   "id": "942af598-6c8e-484e-a766-5493f12f2091",
   "metadata": {},
   "outputs": [
    {
     "name": "stdout",
     "output_type": "stream",
     "text": [
      "Le type de données de la bande 1: UInt16\n",
      "#############################################\n",
      "Propriétés\n",
      "Data/Aligned_rasters/ghsl_built_aligned.tif a 17786 x 12389 comme dimension\n",
      "Driver: GTiff\n",
      "Nombre de bande: 1\n",
      "Les metadonnées: {'AREA_OR_POINT': 'Area'}\n",
      "Unité de la projection: metre 1.0\n",
      "Origine: (374491.5725851272, 1627184.8412821454)\n",
      "Size: (100.0 metre, -100.0 metre)\n",
      "Valeur minimale 0.0\n",
      "Valeur maximale 6022.0\n",
      "#############################################\n",
      "\n",
      "\n",
      "Le type de données de la bande 1: Int16\n",
      "#############################################\n",
      "Propriétés\n",
      "Data/Aligned_rasters/mnt_aligned.tif a 17786 x 12389 comme dimension\n",
      "Driver: GTiff\n",
      "Nombre de bande: 1\n",
      "Les metadonnées: {'AREA_OR_POINT': 'Area'}\n",
      "Unité de la projection: metre 1.0\n",
      "Origine: (374491.5725851272, 1627184.8412821454)\n",
      "Size: (100.0 metre, -100.0 metre)\n",
      "Valeur minimale -10.0\n",
      "Valeur maximale 1524.0\n",
      "#############################################\n",
      "\n",
      "\n",
      "Le type de données de la bande 1: Byte\n",
      "#############################################\n",
      "Propriétés\n",
      "Data/Aligned_rasters/landcover_aligned.tif a 17786 x 12389 comme dimension\n",
      "Driver: GTiff\n",
      "Nombre de bande: 1\n",
      "Les metadonnées: {'AREA_OR_POINT': 'Area'}\n",
      "Unité de la projection: metre 1.0\n",
      "Origine: (374491.5725851272, 1627184.8412821454)\n",
      "Size: (100.0 metre, -100.0 metre)\n",
      "Valeur minimale 0.0\n",
      "Valeur maximale 95.0\n",
      "#############################################\n",
      "\n",
      "\n",
      "Le type de données de la bande 1: Float64\n",
      "#############################################\n",
      "Propriétés\n",
      "Data/Aligned_rasters/ghsl_pop_aligned.tif a 17786 x 12389 comme dimension\n",
      "Driver: GTiff\n",
      "Nombre de bande: 1\n",
      "Les metadonnées: {'AREA_OR_POINT': 'Area'}\n",
      "Unité de la projection: metre 1.0\n",
      "Origine: (374491.5725851272, 1627184.8412821454)\n",
      "Size: (100.0 metre, -100.0 metre)\n",
      "Valeur minimale 0.0\n",
      "Valeur maximale 365.43754878561003\n",
      "#############################################\n",
      "\n",
      "\n"
     ]
    }
   ],
   "source": [
    "aligned_raster_paths = glob.glob('Data/Aligned_rasters/*.tif')\n",
    "for path in aligned_raster_paths:\n",
    "    \n",
    "    gdal_properties(path)\n",
    "    print('\\n')"
   ]
  },
  {
   "cell_type": "markdown",
   "id": "95003284-cef3-4a3a-97c2-79b50a1bd927",
   "metadata": {},
   "source": [
    "#### e. Conversion\n",
    "les coordonées GPS(longitude, latitude) des stations Hydrometrique doivent être convertis en coordonnées image(ligne, colonne).\n",
    "La conversion est nécessaire lorsqu'on travaille avec des rasters(comme un MNT, un LDD).\n",
    "- Station Kégoudou (-12.1833, 12.55)\n",
    "- Station Mako (-12.35, 12.8667)"
   ]
  },
  {
   "cell_type": "code",
   "execution_count": 24,
   "id": "78cf9e2d-46b2-4209-879f-f408013017f5",
   "metadata": {},
   "outputs": [
    {
     "name": "stdout",
     "output_type": "stream",
     "text": [
      "Station Kédougou en Coordonées image (4316, 2381)\n",
      "Station Mako en Coordonées image (4131, 2033)\n"
     ]
    }
   ],
   "source": [
    "#définition d'une fonction de conversion des coordonnées géographiques en indice de pixel ou inversement\n",
    "def geoToPixel(x, y, geotransform, inverse=False):\n",
    "    # D'abord on va convertir les coordonnées géographiques en coordonnées projetées\n",
    "    def gps_to_utm(x, y): #fonction pour convertir les coordonnées géographiques en coordonnées projetées\n",
    "        transformer_wgs = Transformer.from_crs(\"EPSG:4326\", \"EPSG:32628\", always_xy=True)\n",
    "        \n",
    "        x_proj, y_proj = transformer_wgs.transform(x, y)\n",
    "        return [x_proj, y_proj]\n",
    "        \n",
    "    if inverse:\n",
    "        #print(\"Convertir Pixel à Géo\")\n",
    "        xcoord = geotransform[0] + x * geotransform[1]\n",
    "        ycoord = geotransform[3] + y * geotransform[5]\n",
    "        \n",
    "    elif inverse is False:\n",
    "        x_utm, y_utm = gps_to_utm(x, y)\n",
    "        #print(\"Convertir Géo a Pixel\")\n",
    "        xcoord = int((x_utm - geotransform[0]) / geotransform[1])\n",
    "        ycoord = int((y_utm - geotransform[3]) / geotransform[5])\n",
    "    else:\n",
    "        print(\"le raster n'a pas de trasnformation\")\n",
    "    return xcoord, ycoord\n",
    "#tester la fonction sur notre raster\n",
    "# Choisir un GeoTransformation à partir de nos raster\n",
    "geotransform = gdal.Open('Data/Aligned_rasters/mnt_aligned.tif').GetGeoTransform()\n",
    "kedougou = geoToPixel(-12.1833, 12.55, geotransform)\n",
    "mako = geoToPixel(-12.35, 12.8667, geotransform)\n",
    "print(f\"Station Kédougou en Coordonées image {kedougou}\")\n",
    "print(f\"Station Mako en Coordonées image {mako}\")"
   ]
  },
  {
   "cell_type": "markdown",
   "id": "3253f579-4c32-47f8-aafd-e37575acea88",
   "metadata": {},
   "source": [
    "#### f. Traduction les fichiers GeoTiff déja alignés en fichier pcraster(.map)"
   ]
  },
  {
   "cell_type": "code",
   "execution_count": 10,
   "id": "99827b76-61b8-4e5c-8d42-56a4eb9fab79",
   "metadata": {},
   "outputs": [],
   "source": [
    "# Définition de la fonction de conversion\n",
    "def convert_to_pcraster(input_filename, output_filename, gdal_type,value_scale):\n",
    "\n",
    "    #gdal.SetConfigOption(\"PCRASTER_VALUESCLAE\", value_scale)\n",
    "    gdal.UseExceptions()\n",
    "    src_ds = gdal.Open(input_filename, gdalconst.GA_ReadOnly)\n",
    "    \n",
    "    gdal.Translate(output_filename, src_ds, format=\"PCRaster\", outputType=gdal_type, metadataOptions=value_scale)#creationOptions=[f\"VALUESCALE={value_scale}\"])\n",
    "    print(f\"Converti : {input_filename} en {output_filename}\")\n",
    "    \n",
    "    #GDAL Translate\n",
    "    #dst_ds = gdal.Translate(dst_filename, src_ds, format='PCRaster', outputType=ot, metadataOptions=VS)\n",
    "    \n",
    "    # Libérer proprement les objets en mémoire\n",
    "    dst_ds = None\n",
    "    src_ds = None\n",
    "    \n"
   ]
  },
  {
   "cell_type": "code",
   "execution_count": 11,
   "id": "599e7c58-ce8f-4370-b4a2-feabbec8c1b5",
   "metadata": {},
   "outputs": [
    {
     "name": "stdout",
     "output_type": "stream",
     "text": [
      "Converti : Data/Aligned_rasters/mnt_aligned.tif en Data/PCRaster_files/mnt.map\n",
      "Converti : Data/Aligned_rasters/landcover_aligned.tif en Data/PCRaster_files/landcover.map\n",
      "Converti : Data/Aligned_rasters/ghsl_built_aligned.tif en Data/PCRaster_files/ghsl_built.map\n",
      "Converti : Data/Aligned_rasters/ghsl_pop_aligned.tif en Data/PCRaster_files/ghsl_pop.map\n"
     ]
    }
   ],
   "source": [
    "# Exécution de de la fonction de conversion des fichiers .tif en .map\n",
    "input_filenames = {\n",
    "    'Data/Aligned_rasters/mnt_aligned.tif': {\n",
    "        'output': 'Data/PCRaster_files/mnt.map',\n",
    "        'value_scale': 'VS_SCALAR',\n",
    "        'gdal_type': gdalconst.GDT_Float32\n",
    "    },\n",
    "    'Data/Aligned_rasters/landcover_aligned.tif': {\n",
    "        'output': 'Data/PCRaster_files/landcover.map',\n",
    "        'value_scale': 'VS_NOMINAL',\n",
    "        'gdal_type': gdalconst.GDT_Byte\n",
    "    },\n",
    "'Data/Aligned_rasters/ghsl_built_aligned.tif': {\n",
    "        'output': 'Data/PCRaster_files/ghsl_built.map',\n",
    "        'value_scale': 'VS_SCALAR',\n",
    "        'gdal_type': gdalconst.GDT_Float32\n",
    "    },\n",
    "'Data/Aligned_rasters/ghsl_pop_aligned.tif': {\n",
    "        'output': 'Data/PCRaster_files/ghsl_pop.map',\n",
    "        'value_scale': 'VS_SCALAR',\n",
    "        'gdal_type': gdalconst.GDT_Float32\n",
    "    }\n",
    "}\n",
    "# Lancer les conversations\n",
    "for filename, infos in input_filenames.items():\n",
    "    convert_to_pcraster(input_filename=filename,\n",
    "                       output_filename=infos['output'],\n",
    "                       value_scale=infos['value_scale'],\n",
    "                       gdal_type=infos['gdal_type'])\n"
   ]
  },
  {
   "cell_type": "markdown",
   "id": "c1d4f338-104d-4a02-8782-ec79c83d05a0",
   "metadata": {},
   "source": [
    "#### g. Génération de LDD (Local Drain Direction)\n",
    "Le LDD est une composante fondamentale dans toute modélisation hydrologique. Il représente, pour chaque cellule du MNT, la direction dans laquelle l'eau s'écoule vers une cellule voisine. Cette structure est indispensable pour simuler le ruissellement, l'accumulation ou les inondations. Avant de générer la direction de l'écoulement, nous allons corrigé les dépressions sur le Modèle Numérique Terrain."
   ]
  },
  {
   "cell_type": "code",
   "execution_count": 12,
   "id": "2a014ef5",
   "metadata": {},
   "outputs": [],
   "source": [
    "# Une carte de clone\n",
    "pcr.setclone('Data/PCRaster_files/mnt.map')"
   ]
  },
  {
   "cell_type": "code",
   "execution_count": 6,
   "id": "4efe9b56-60e7-4196-9d8e-99891f8050c6",
   "metadata": {},
   "outputs": [],
   "source": [
    "# Fonction de calcul de direction\n",
    "def calculate_flow_direction(dem_file):\n",
    "    dem = pcr.readmap(dem_file)\n",
    "    #dem_filled = pcr.lddcreatedem(dem, 1e31, 1e31, 1e31, 1e31)\n",
    "    #pcr.report(dem_filled, 'Data/PCRaster_files/mnt_corrige.map')\n",
    "    \n",
    "    flowDirection = pcr.lddcreate(dem, 1e31, 1e31, 1e31, 1e31)\n",
    "    pcr.report(flowDirection, 'Data/PCRaster_files/ldd_30m.map')\n",
    "\n",
    "#calculate_flow_direction('Data/PCRaster_files/mnt.map')"
   ]
  },
  {
   "cell_type": "markdown",
   "id": "b587cd23",
   "metadata": {},
   "source": [
    "#### h. Délimition du fleuve Gambie dans le cadre de la modélisation des inondations:\n",
    "Dans le cadre de ce projet, l'objectif principal de la délimitation du cours est d'identifier précisément le lit majeur du fleuve Gambie, en excluant les affluents secondaires. Cette délimitation est essentielle pour:\n",
    "- Localiser les zones suceptibles d'être inondées à proximité immédiate du fleuve\n",
    "- Simuler l'expension spatiale des inondations depuis le fleuve principal.\n",
    "- Intégrer les stations de mesure (Kédougou et Mako) dans une analyse cohérente et réaliste\n",
    "\n",
    "##### Méthode utlisée: ordre de strahler: \n",
    "Pour identifier le fleuve principale parmi l'ensemble des réseaux hydrographique, nous allons utilisé la technique basée sur **l'ordre de Strahler** qui permet de:\n",
    "+ classer les rivières selon leur importance topologique dans un réseau hydrographique\n",
    "+ Filtrer les affuents secondaires à l'aide d'un seuil élevé\n",
    "+ Générer une carte du cours d'eau principal à partir d'un LDD (local Drainage Direction)"
   ]
  },
  {
   "cell_type": "code",
   "execution_count": 33,
   "id": "5b7bf69d",
   "metadata": {},
   "outputs": [],
   "source": [
    "# Calculer l'ordre de Strahler et extraire le réseau pour chaque ordre\n",
    "def stream_delineation(flow_direction_map): # Avec comme paramètre, le LDD\n",
    "    \n",
    "    orders = pcr.streamorder(flow_direction_map)\n",
    "    pcr.report(orders, 'Data/Streams/strahler.map') # enregistrer sous forme de carte pcraster les ordres de Strahler\n",
    "    \"\"\"order_max = pcr.mapmaximum(orders)\n",
    "    order_max_value = pcr.cellvalue(order_max, 1, 1)[0]\n",
    "    for order in range(1, order_max_value+1):\n",
    "        stream = pcr.ifthen(orders >= order, pcr.scalar(1))\n",
    "        pcr.report(stream, f'Data/Streams/stream{str(order)}.map')\"\"\"\n",
    "    return orders\n"
   ]
  },
  {
   "cell_type": "code",
   "execution_count": 30,
   "id": "b125b0e5",
   "metadata": {},
   "outputs": [],
   "source": [
    "# Utlisation de l'ordre de Strahler sur notre réseau de drainage\n",
    "ldd = pcr.readmap('Data/PCRaster_files/ldd.map')"
   ]
  },
  {
   "cell_type": "markdown",
   "id": "4e72c231",
   "metadata": {},
   "source": [
    "##### validation \n",
    "1. Objectif\n",
    "L'objectif est de valider si le réseau hydrographique extrait à partir des ordres de Stahler assure une connexion continue entre ls stations de Kédougou et Mako.\n",
    "2. Méthode\n",
    "* Filtrage de cours d'eau\n",
    "Sélectionner uniquement les rivières ayant un ordre de Stahler supèrieur ou égal à un seuil donnée\n",
    "* Affichage Graphique\n",
    "Afficher en fond de carte les cours d'eau sélectionner puis placer les stations Kédougou et Mako sur la carte.\n",
    "* Observation\n",
    "Vérifier visuellement si les stations Kédougou et Mako tombent dans le masque.\n",
    "3. Justification de la méthode\n",
    "* La validation graphique permet d'observer directement la structure du résau hydrographique sans ambiguité\n",
    "* Elle offre une onfirmation visuelle de la connectivité entre les deux stations, ce qui est plus fiable qu'une validation numérique"
   ]
  },
  {
   "cell_type": "code",
   "execution_count": 28,
   "id": "ecfae439",
   "metadata": {},
   "outputs": [],
   "source": [
    "#définition d'une fonction de conversion des coordonnées géographiques en indice de pixel ou inversement\n",
    "def geoToPixel(x, y, geotransform, inverse=False):\n",
    "    # D'abord on va convertir les coordonnées géographiques en coordonnées projetées\n",
    "    def gps_to_utm(x, y): #fonction pour convertir les coordonnées géographiques en coordonnées projetées\n",
    "        transformer_wgs = Transformer.from_crs(\"EPSG:4326\", \"EPSG:32628\", always_xy=True)\n",
    "        \n",
    "        x_proj, y_proj = transformer_wgs.transform(x, y)\n",
    "        return [x_proj, y_proj]\n",
    "        \n",
    "    \n",
    "    \n",
    "    if inverse is True: \n",
    "        \"\"\"si inverse est True, x et y sont en coordonnées géographiques, donc on les converties en coordonnées pixel\n",
    "        après reprojection\"\"\"\n",
    "        #print(\"Convertir Pixel à Géo\")\n",
    "        xcoord = geotransform[0] + x * geotransform[1]\n",
    "        ycoord = geotransform[3] + y * geotransform[5]\n",
    "    \n",
    "    \n",
    "    elif inverse is False:\n",
    "            \n",
    "        \"\"\"si inverse est False, x et y sont en coordonnées pixel, donc on les converties en coordonnées projetées\n",
    "        après reprojection\"\"\"\n",
    "        x_utm, y_utm = gps_to_utm(x, y)\n",
    "        #print(\"Convertir Géo a Pixel\")\n",
    "        xcoord = int((x_utm - geotransform[0]) / geotransform[1])\n",
    "        ycoord = int((y_utm - geotransform[3]) / geotransform[5])\n",
    "    else:\n",
    "        print(\"le raster n'a pas de trasnformation\")\n",
    "    return xcoord, ycoord\n",
    "#tester la fonction sur notre raster\n",
    "# Choisir un GeoTransformation à partir de nos raster\n",
    "\n",
    "#print(f\"Station Kédougou en Coordonées image {kedougou}\")\n",
    "#print(f\"Station Mako en Coordonées image {mako}\")"
   ]
  },
  {
   "cell_type": "code",
   "execution_count": 32,
   "id": "81aed7b9",
   "metadata": {},
   "outputs": [],
   "source": [
    "\"\"\" L'exception single resize rencontré lors de l'utilisation de pcr2numpy provient d'une incompatibilité entre la taille\n",
    "du rastercourant en mémoire dans pcraster et celle du du raster que l'on souhaite convertir. Par conséquent PCRaster\n",
    "interdit interdit le redimenssionnement automatique pour éviter des incohérence dans les calculs.\n",
    "Afin de contourner cette contrainte, une fonction personnalisée a été mise en place \"\"\"\n",
    "# Fonction personnalisée à la place de pcr2numpy\n",
    "def pcr_to_Numpy(pcr_map, nodata_value):\n",
    "    rows = pcr.clone().nrRows()\n",
    "    cols = pcr.clone().nrCols()\n",
    "    pcr_array = np.zeros((rows, cols), dtype=np.float32)\n",
    "    for row in range(0, rows):\n",
    "        for col in range(0, cols):\n",
    "            value, mv =  pcr.cellvalue(pcr_map, row + 1, col + 1)\n",
    "            if mv is False:\n",
    "                value = nodata_value\n",
    "            pcr_array[row, col] = value\n",
    "    #pcr_array = pcr_array.astype(int)\n",
    "    return pcr_array"
   ]
  },
  {
   "cell_type": "code",
   "execution_count": 6,
   "id": "3372ac6e",
   "metadata": {},
   "outputs": [
    {
     "data": {
      "text/plain": [
       "1"
      ]
     },
     "execution_count": 6,
     "metadata": {},
     "output_type": "execute_result"
    }
   ],
   "source": [
    "#tester la fonction sur notre raster\n",
    "# Choisir un GeoTransformation à partir de nos raster\n",
    "geotransform = gdal.Open('Data/Aligned_rasters/mnt_aligned.tif').GetGeoTransform()\n",
    "kedoudou_x_in_pixel, kedougou_y_in_pixel = geoToPixel(-13.7333, 13.4667, geotransform) # coordonnées en pixel de la station Kédougou\n",
    "mako_x_in_pixel, mako_y_in_pixel = geoToPixel(-15.6833, 13.6833, geotransform) # coordonnées en pixel de la station de Mako\n",
    "\n",
    "strahlers = pcr.readmap('Data/Streams/strahler.map')\n",
    "kedougou_strahler = strahler_value_point(strahlers, kedoudou_x_in_pixel, kedougou_y_in_pixel)\n",
    "mako_strahler = strahler_value_point(strahlers, mako_x_in_pixel, mako_y_in_pixel)\n",
    "kedougou_strahler"
   ]
  },
  {
   "cell_type": "code",
   "execution_count": 35,
   "id": "45195bd4",
   "metadata": {},
   "outputs": [],
   "source": [
    "def visualization_ldd_and_strahlers(ldd_numpy, strahler_calibrated, strahlers_complete, kedougou_coords, mako_coords, threshold):\n",
    "    \n",
    "    fig, (ax1, ax1, ax3) = plt.supbplot(2, 2, figsize=(20, 10))\n",
    "    \n",
    "    # Premiere carte: Une carte pour représenter le LDD\n",
    "    im1 = ax1.imshow(ldd_array, cmap='viridis', origin='upper')\n",
    "    ax1.plot([kedougou_coords[0], mako_coords[0]], [kedougou_coords[1], mako_coords[1]], color='red',\n",
    "        s=100, label='Stations')\n",
    "    ax1.set_title('Le Local Drain Direction', fonsize=16)\n",
    "    ax1.legend()\n",
    "    fig.colorbar(im1, ax=ax1, fraction=0.046, pad=0.04, label='Local Drain Direction')\n",
    "    \n",
    "    # Deuxième carte: Tous les ordres de Strahlers\n",
    "    im2 = ax2.imshow(strahlers_complete, cmap='viridis', origin='upper')\n",
    "    ax2.plot([kedougou_coords[0], mako_coords[0]], [kedougou_coords[1], mako_coords[1]], color='red',\n",
    "        s=100, label='Stations')\n",
    "    ax2.set_title('Tous les ordres de stahlers', fonsize=16)\n",
    "    ax2.legend()\n",
    "    fig.colorbar(im2, ax=ax2, fraction=0.046, pad=0.04, label='Ordres de Strahlers')\n",
    "    \n",
    "    # Troisième carte: Ordres seuil\n",
    "    im3 = ax3.imshow(strahler_calibrated, cmap='viridis', origin='upper')\n",
    "    ax3.plot([kedougou_coords[0], mako_coords[0]], [kedougou_coords[1], mako_coords[1]], color='red',\n",
    "        s=100, label='Stations')\n",
    "    ax3.set_title(f'Ordre de Strahler >= {threshold}', fonsize=16)\n",
    "    ax3.legend()\n",
    "    fig.colorbar(im3, ax=ax3, fraction=0.046, pad=0.04, label=f'Ordres >= {threshold}')\n",
    "    \n",
    "    # Titre général\n",
    "    plt.subtitle('Validation graphique du réseau hydrographique', fontsize=20)\n",
    "    plt.show()"
   ]
  },
  {
   "cell_type": "code",
   "execution_count": 15,
   "id": "ef3692ff",
   "metadata": {},
   "outputs": [],
   "source": [
    "# Visualisation\n",
    "ldd_numpy = pcr_to_numpy(ldd) # convertir le LDD en tableau numpy\n",
    "orders = stream_delineation(ldd) # Ordre de strahler, ordre maximum 11\n",
    "orders_numpy = pcr_to_numpy(orders)\n",
    "strahler_order_threshold = 8 # doit être calibré, ne peut pas être fait automatiquement\n",
    "strahler_order_8 = orders >= 8 # Capturer tous les ordres >= 8\n",
    "strahler_order_8_numpy = pcr_to_numpy(strahler_order_8_numpy)\n",
    "geotransform = gdal.Open('Data/Aligned_rasters/mnt_aligned.tif').GetGeoTransform()\n",
    "kedougou = geoToPixel(-12.1833, 12.55, geotransform) # Coordonnées en pixel de la station de Kédougou\n",
    "mako = geoToPixel(-12.35, 12.8667, geotransform) # Coordonnée en pixel de la station de Mako\n",
    "visualization_ldd_and_strahlers(ldd_numpy=ldd_numpy, \n",
    "                                strahler_calibrated=strahler_order_8_numpy, \n",
    "                                strahlers_complete=orders, \n",
    "                                kedougou_coords=kedougou, \n",
    "                                mako_coords=mako, \n",
    "                                threshold=8)"
   ]
  },
  {
   "cell_type": "code",
   "execution_count": 13,
   "id": "6cfa2427",
   "metadata": {},
   "outputs": [
    {
     "data": {
      "text/plain": [
       "11"
      ]
     },
     "execution_count": 13,
     "metadata": {},
     "output_type": "execute_result"
    }
   ],
   "source": [
    "order_max = pcr.mapmaximum(strahlers)\n",
    "order_max_value = pcr.cellvalue(order_max, 1, 1)[0]\n",
    "for order in range(order_max, 0, -1):\n",
    "    mask = pcr.ifthen(pcr.scalar(strahlers) == order, pcr.boolean(1))\n",
    "    "
   ]
  },
  {
   "cell_type": "code",
   "execution_count": 7,
   "id": "1c50a1e7",
   "metadata": {},
   "outputs": [],
   "source": [
    "def pcrasterNumpy(dataset):\n",
    "    pcr.report(dataset, 'tmp.map')\n",
    "    dataset = pcr.readmap('tmp.map')\n",
    "    rows = pcr.clone().nrRows()\n",
    "    cols = pcr.clone().nrCols()\n",
    "    dataset_array = np.zeros((rows, cols))\n",
    "    for row in range(rows):\n",
    "        for col in range(cols):\n",
    "            dataset_array[row, col] = pcr.cellvalue(dataset, row + 1, col + 1)[0]\n",
    "    return dataset_array\n",
    "#array = pcrasterNumpy(ldd)\n",
    "#array"
   ]
  },
  {
   "cell_type": "code",
   "execution_count": 19,
   "id": "a35270a5",
   "metadata": {},
   "outputs": [
    {
     "data": {
      "text/plain": [
       "(array([0., 1.]), array([19821135,    12777]))"
      ]
     },
     "execution_count": 19,
     "metadata": {},
     "output_type": "execute_result"
    }
   ],
   "source": [
    "values, counts = np.unique(array, return_counts=True)\n",
    "values, counts"
   ]
  },
  {
   "cell_type": "code",
   "execution_count": 8,
   "id": "b398c8f2",
   "metadata": {},
   "outputs": [],
   "source": [
    "ordre_11 = strahlers == 8\n",
    "array = pcrasterNumpy(ordre_11)"
   ]
  },
  {
   "cell_type": "code",
   "execution_count": 12,
   "id": "74956f3b",
   "metadata": {},
   "outputs": [
    {
     "ename": "MemoryError",
     "evalue": "Unable to allocate 151. MiB for an array with shape (3717, 5336) and data type float64",
     "output_type": "error",
     "traceback": [
      "\u001b[0;31m---------------------------------------------------------------------------\u001b[0m",
      "\u001b[0;31mMemoryError\u001b[0m                               Traceback (most recent call last)",
      "File \u001b[0;32m~/anaconda3/envs/pcraster_env/lib/python3.9/site-packages/IPython/core/formatters.py:340\u001b[0m, in \u001b[0;36mBaseFormatter.__call__\u001b[0;34m(self, obj)\u001b[0m\n\u001b[1;32m    338\u001b[0m     \u001b[38;5;28;01mpass\u001b[39;00m\n\u001b[1;32m    339\u001b[0m \u001b[38;5;28;01melse\u001b[39;00m:\n\u001b[0;32m--> 340\u001b[0m     \u001b[38;5;28;01mreturn\u001b[39;00m \u001b[43mprinter\u001b[49m\u001b[43m(\u001b[49m\u001b[43mobj\u001b[49m\u001b[43m)\u001b[49m\n\u001b[1;32m    341\u001b[0m \u001b[38;5;66;03m# Finally look for special method names\u001b[39;00m\n\u001b[1;32m    342\u001b[0m method \u001b[38;5;241m=\u001b[39m get_real_method(obj, \u001b[38;5;28mself\u001b[39m\u001b[38;5;241m.\u001b[39mprint_method)\n",
      "File \u001b[0;32m~/anaconda3/envs/pcraster_env/lib/python3.9/site-packages/IPython/core/pylabtools.py:152\u001b[0m, in \u001b[0;36mprint_figure\u001b[0;34m(fig, fmt, bbox_inches, base64, **kwargs)\u001b[0m\n\u001b[1;32m    149\u001b[0m     \u001b[38;5;28;01mfrom\u001b[39;00m \u001b[38;5;21;01mmatplotlib\u001b[39;00m\u001b[38;5;21;01m.\u001b[39;00m\u001b[38;5;21;01mbackend_bases\u001b[39;00m \u001b[38;5;28;01mimport\u001b[39;00m FigureCanvasBase\n\u001b[1;32m    150\u001b[0m     FigureCanvasBase(fig)\n\u001b[0;32m--> 152\u001b[0m \u001b[43mfig\u001b[49m\u001b[38;5;241;43m.\u001b[39;49m\u001b[43mcanvas\u001b[49m\u001b[38;5;241;43m.\u001b[39;49m\u001b[43mprint_figure\u001b[49m\u001b[43m(\u001b[49m\u001b[43mbytes_io\u001b[49m\u001b[43m,\u001b[49m\u001b[43m \u001b[49m\u001b[38;5;241;43m*\u001b[39;49m\u001b[38;5;241;43m*\u001b[39;49m\u001b[43mkw\u001b[49m\u001b[43m)\u001b[49m\n\u001b[1;32m    153\u001b[0m data \u001b[38;5;241m=\u001b[39m bytes_io\u001b[38;5;241m.\u001b[39mgetvalue()\n\u001b[1;32m    154\u001b[0m \u001b[38;5;28;01mif\u001b[39;00m fmt \u001b[38;5;241m==\u001b[39m \u001b[38;5;124m'\u001b[39m\u001b[38;5;124msvg\u001b[39m\u001b[38;5;124m'\u001b[39m:\n",
      "File \u001b[0;32m~/anaconda3/envs/pcraster_env/lib/python3.9/site-packages/matplotlib/backend_bases.py:2175\u001b[0m, in \u001b[0;36mFigureCanvasBase.print_figure\u001b[0;34m(self, filename, dpi, facecolor, edgecolor, orientation, format, bbox_inches, pad_inches, bbox_extra_artists, backend, **kwargs)\u001b[0m\n\u001b[1;32m   2172\u001b[0m     \u001b[38;5;66;03m# we do this instead of `self.figure.draw_without_rendering`\u001b[39;00m\n\u001b[1;32m   2173\u001b[0m     \u001b[38;5;66;03m# so that we can inject the orientation\u001b[39;00m\n\u001b[1;32m   2174\u001b[0m     \u001b[38;5;28;01mwith\u001b[39;00m \u001b[38;5;28mgetattr\u001b[39m(renderer, \u001b[38;5;124m\"\u001b[39m\u001b[38;5;124m_draw_disabled\u001b[39m\u001b[38;5;124m\"\u001b[39m, nullcontext)():\n\u001b[0;32m-> 2175\u001b[0m         \u001b[38;5;28;43mself\u001b[39;49m\u001b[38;5;241;43m.\u001b[39;49m\u001b[43mfigure\u001b[49m\u001b[38;5;241;43m.\u001b[39;49m\u001b[43mdraw\u001b[49m\u001b[43m(\u001b[49m\u001b[43mrenderer\u001b[49m\u001b[43m)\u001b[49m\n\u001b[1;32m   2176\u001b[0m \u001b[38;5;28;01mif\u001b[39;00m bbox_inches:\n\u001b[1;32m   2177\u001b[0m     \u001b[38;5;28;01mif\u001b[39;00m bbox_inches \u001b[38;5;241m==\u001b[39m \u001b[38;5;124m\"\u001b[39m\u001b[38;5;124mtight\u001b[39m\u001b[38;5;124m\"\u001b[39m:\n",
      "File \u001b[0;32m~/anaconda3/envs/pcraster_env/lib/python3.9/site-packages/matplotlib/artist.py:95\u001b[0m, in \u001b[0;36m_finalize_rasterization.<locals>.draw_wrapper\u001b[0;34m(artist, renderer, *args, **kwargs)\u001b[0m\n\u001b[1;32m     93\u001b[0m \u001b[38;5;129m@wraps\u001b[39m(draw)\n\u001b[1;32m     94\u001b[0m \u001b[38;5;28;01mdef\u001b[39;00m \u001b[38;5;21mdraw_wrapper\u001b[39m(artist, renderer, \u001b[38;5;241m*\u001b[39margs, \u001b[38;5;241m*\u001b[39m\u001b[38;5;241m*\u001b[39mkwargs):\n\u001b[0;32m---> 95\u001b[0m     result \u001b[38;5;241m=\u001b[39m \u001b[43mdraw\u001b[49m\u001b[43m(\u001b[49m\u001b[43martist\u001b[49m\u001b[43m,\u001b[49m\u001b[43m \u001b[49m\u001b[43mrenderer\u001b[49m\u001b[43m,\u001b[49m\u001b[43m \u001b[49m\u001b[38;5;241;43m*\u001b[39;49m\u001b[43margs\u001b[49m\u001b[43m,\u001b[49m\u001b[43m \u001b[49m\u001b[38;5;241;43m*\u001b[39;49m\u001b[38;5;241;43m*\u001b[39;49m\u001b[43mkwargs\u001b[49m\u001b[43m)\u001b[49m\n\u001b[1;32m     96\u001b[0m     \u001b[38;5;28;01mif\u001b[39;00m renderer\u001b[38;5;241m.\u001b[39m_rasterizing:\n\u001b[1;32m     97\u001b[0m         renderer\u001b[38;5;241m.\u001b[39mstop_rasterizing()\n",
      "File \u001b[0;32m~/anaconda3/envs/pcraster_env/lib/python3.9/site-packages/matplotlib/artist.py:72\u001b[0m, in \u001b[0;36mallow_rasterization.<locals>.draw_wrapper\u001b[0;34m(artist, renderer)\u001b[0m\n\u001b[1;32m     69\u001b[0m     \u001b[38;5;28;01mif\u001b[39;00m artist\u001b[38;5;241m.\u001b[39mget_agg_filter() \u001b[38;5;129;01mis\u001b[39;00m \u001b[38;5;129;01mnot\u001b[39;00m \u001b[38;5;28;01mNone\u001b[39;00m:\n\u001b[1;32m     70\u001b[0m         renderer\u001b[38;5;241m.\u001b[39mstart_filter()\n\u001b[0;32m---> 72\u001b[0m     \u001b[38;5;28;01mreturn\u001b[39;00m \u001b[43mdraw\u001b[49m\u001b[43m(\u001b[49m\u001b[43martist\u001b[49m\u001b[43m,\u001b[49m\u001b[43m \u001b[49m\u001b[43mrenderer\u001b[49m\u001b[43m)\u001b[49m\n\u001b[1;32m     73\u001b[0m \u001b[38;5;28;01mfinally\u001b[39;00m:\n\u001b[1;32m     74\u001b[0m     \u001b[38;5;28;01mif\u001b[39;00m artist\u001b[38;5;241m.\u001b[39mget_agg_filter() \u001b[38;5;129;01mis\u001b[39;00m \u001b[38;5;129;01mnot\u001b[39;00m \u001b[38;5;28;01mNone\u001b[39;00m:\n",
      "File \u001b[0;32m~/anaconda3/envs/pcraster_env/lib/python3.9/site-packages/matplotlib/figure.py:3162\u001b[0m, in \u001b[0;36mFigure.draw\u001b[0;34m(self, renderer)\u001b[0m\n\u001b[1;32m   3159\u001b[0m             \u001b[38;5;66;03m# ValueError can occur when resizing a window.\u001b[39;00m\n\u001b[1;32m   3161\u001b[0m     \u001b[38;5;28mself\u001b[39m\u001b[38;5;241m.\u001b[39mpatch\u001b[38;5;241m.\u001b[39mdraw(renderer)\n\u001b[0;32m-> 3162\u001b[0m     \u001b[43mmimage\u001b[49m\u001b[38;5;241;43m.\u001b[39;49m\u001b[43m_draw_list_compositing_images\u001b[49m\u001b[43m(\u001b[49m\n\u001b[1;32m   3163\u001b[0m \u001b[43m        \u001b[49m\u001b[43mrenderer\u001b[49m\u001b[43m,\u001b[49m\u001b[43m \u001b[49m\u001b[38;5;28;43mself\u001b[39;49m\u001b[43m,\u001b[49m\u001b[43m \u001b[49m\u001b[43martists\u001b[49m\u001b[43m,\u001b[49m\u001b[43m \u001b[49m\u001b[38;5;28;43mself\u001b[39;49m\u001b[38;5;241;43m.\u001b[39;49m\u001b[43msuppressComposite\u001b[49m\u001b[43m)\u001b[49m\n\u001b[1;32m   3165\u001b[0m     renderer\u001b[38;5;241m.\u001b[39mclose_group(\u001b[38;5;124m'\u001b[39m\u001b[38;5;124mfigure\u001b[39m\u001b[38;5;124m'\u001b[39m)\n\u001b[1;32m   3166\u001b[0m \u001b[38;5;28;01mfinally\u001b[39;00m:\n",
      "File \u001b[0;32m~/anaconda3/envs/pcraster_env/lib/python3.9/site-packages/matplotlib/image.py:132\u001b[0m, in \u001b[0;36m_draw_list_compositing_images\u001b[0;34m(renderer, parent, artists, suppress_composite)\u001b[0m\n\u001b[1;32m    130\u001b[0m \u001b[38;5;28;01mif\u001b[39;00m not_composite \u001b[38;5;129;01mor\u001b[39;00m \u001b[38;5;129;01mnot\u001b[39;00m has_images:\n\u001b[1;32m    131\u001b[0m     \u001b[38;5;28;01mfor\u001b[39;00m a \u001b[38;5;129;01min\u001b[39;00m artists:\n\u001b[0;32m--> 132\u001b[0m         \u001b[43ma\u001b[49m\u001b[38;5;241;43m.\u001b[39;49m\u001b[43mdraw\u001b[49m\u001b[43m(\u001b[49m\u001b[43mrenderer\u001b[49m\u001b[43m)\u001b[49m\n\u001b[1;32m    133\u001b[0m \u001b[38;5;28;01melse\u001b[39;00m:\n\u001b[1;32m    134\u001b[0m     \u001b[38;5;66;03m# Composite any adjacent images together\u001b[39;00m\n\u001b[1;32m    135\u001b[0m     image_group \u001b[38;5;241m=\u001b[39m []\n",
      "File \u001b[0;32m~/anaconda3/envs/pcraster_env/lib/python3.9/site-packages/matplotlib/artist.py:72\u001b[0m, in \u001b[0;36mallow_rasterization.<locals>.draw_wrapper\u001b[0;34m(artist, renderer)\u001b[0m\n\u001b[1;32m     69\u001b[0m     \u001b[38;5;28;01mif\u001b[39;00m artist\u001b[38;5;241m.\u001b[39mget_agg_filter() \u001b[38;5;129;01mis\u001b[39;00m \u001b[38;5;129;01mnot\u001b[39;00m \u001b[38;5;28;01mNone\u001b[39;00m:\n\u001b[1;32m     70\u001b[0m         renderer\u001b[38;5;241m.\u001b[39mstart_filter()\n\u001b[0;32m---> 72\u001b[0m     \u001b[38;5;28;01mreturn\u001b[39;00m \u001b[43mdraw\u001b[49m\u001b[43m(\u001b[49m\u001b[43martist\u001b[49m\u001b[43m,\u001b[49m\u001b[43m \u001b[49m\u001b[43mrenderer\u001b[49m\u001b[43m)\u001b[49m\n\u001b[1;32m     73\u001b[0m \u001b[38;5;28;01mfinally\u001b[39;00m:\n\u001b[1;32m     74\u001b[0m     \u001b[38;5;28;01mif\u001b[39;00m artist\u001b[38;5;241m.\u001b[39mget_agg_filter() \u001b[38;5;129;01mis\u001b[39;00m \u001b[38;5;129;01mnot\u001b[39;00m \u001b[38;5;28;01mNone\u001b[39;00m:\n",
      "File \u001b[0;32m~/anaconda3/envs/pcraster_env/lib/python3.9/site-packages/matplotlib/axes/_base.py:3137\u001b[0m, in \u001b[0;36m_AxesBase.draw\u001b[0;34m(self, renderer)\u001b[0m\n\u001b[1;32m   3134\u001b[0m \u001b[38;5;28;01mif\u001b[39;00m artists_rasterized:\n\u001b[1;32m   3135\u001b[0m     _draw_rasterized(\u001b[38;5;28mself\u001b[39m\u001b[38;5;241m.\u001b[39mfigure, artists_rasterized, renderer)\n\u001b[0;32m-> 3137\u001b[0m \u001b[43mmimage\u001b[49m\u001b[38;5;241;43m.\u001b[39;49m\u001b[43m_draw_list_compositing_images\u001b[49m\u001b[43m(\u001b[49m\n\u001b[1;32m   3138\u001b[0m \u001b[43m    \u001b[49m\u001b[43mrenderer\u001b[49m\u001b[43m,\u001b[49m\u001b[43m \u001b[49m\u001b[38;5;28;43mself\u001b[39;49m\u001b[43m,\u001b[49m\u001b[43m \u001b[49m\u001b[43martists\u001b[49m\u001b[43m,\u001b[49m\u001b[43m \u001b[49m\u001b[38;5;28;43mself\u001b[39;49m\u001b[38;5;241;43m.\u001b[39;49m\u001b[43mfigure\u001b[49m\u001b[38;5;241;43m.\u001b[39;49m\u001b[43msuppressComposite\u001b[49m\u001b[43m)\u001b[49m\n\u001b[1;32m   3140\u001b[0m renderer\u001b[38;5;241m.\u001b[39mclose_group(\u001b[38;5;124m'\u001b[39m\u001b[38;5;124maxes\u001b[39m\u001b[38;5;124m'\u001b[39m)\n\u001b[1;32m   3141\u001b[0m \u001b[38;5;28mself\u001b[39m\u001b[38;5;241m.\u001b[39mstale \u001b[38;5;241m=\u001b[39m \u001b[38;5;28;01mFalse\u001b[39;00m\n",
      "File \u001b[0;32m~/anaconda3/envs/pcraster_env/lib/python3.9/site-packages/matplotlib/image.py:132\u001b[0m, in \u001b[0;36m_draw_list_compositing_images\u001b[0;34m(renderer, parent, artists, suppress_composite)\u001b[0m\n\u001b[1;32m    130\u001b[0m \u001b[38;5;28;01mif\u001b[39;00m not_composite \u001b[38;5;129;01mor\u001b[39;00m \u001b[38;5;129;01mnot\u001b[39;00m has_images:\n\u001b[1;32m    131\u001b[0m     \u001b[38;5;28;01mfor\u001b[39;00m a \u001b[38;5;129;01min\u001b[39;00m artists:\n\u001b[0;32m--> 132\u001b[0m         \u001b[43ma\u001b[49m\u001b[38;5;241;43m.\u001b[39;49m\u001b[43mdraw\u001b[49m\u001b[43m(\u001b[49m\u001b[43mrenderer\u001b[49m\u001b[43m)\u001b[49m\n\u001b[1;32m    133\u001b[0m \u001b[38;5;28;01melse\u001b[39;00m:\n\u001b[1;32m    134\u001b[0m     \u001b[38;5;66;03m# Composite any adjacent images together\u001b[39;00m\n\u001b[1;32m    135\u001b[0m     image_group \u001b[38;5;241m=\u001b[39m []\n",
      "File \u001b[0;32m~/anaconda3/envs/pcraster_env/lib/python3.9/site-packages/matplotlib/artist.py:72\u001b[0m, in \u001b[0;36mallow_rasterization.<locals>.draw_wrapper\u001b[0;34m(artist, renderer)\u001b[0m\n\u001b[1;32m     69\u001b[0m     \u001b[38;5;28;01mif\u001b[39;00m artist\u001b[38;5;241m.\u001b[39mget_agg_filter() \u001b[38;5;129;01mis\u001b[39;00m \u001b[38;5;129;01mnot\u001b[39;00m \u001b[38;5;28;01mNone\u001b[39;00m:\n\u001b[1;32m     70\u001b[0m         renderer\u001b[38;5;241m.\u001b[39mstart_filter()\n\u001b[0;32m---> 72\u001b[0m     \u001b[38;5;28;01mreturn\u001b[39;00m \u001b[43mdraw\u001b[49m\u001b[43m(\u001b[49m\u001b[43martist\u001b[49m\u001b[43m,\u001b[49m\u001b[43m \u001b[49m\u001b[43mrenderer\u001b[49m\u001b[43m)\u001b[49m\n\u001b[1;32m     73\u001b[0m \u001b[38;5;28;01mfinally\u001b[39;00m:\n\u001b[1;32m     74\u001b[0m     \u001b[38;5;28;01mif\u001b[39;00m artist\u001b[38;5;241m.\u001b[39mget_agg_filter() \u001b[38;5;129;01mis\u001b[39;00m \u001b[38;5;129;01mnot\u001b[39;00m \u001b[38;5;28;01mNone\u001b[39;00m:\n",
      "File \u001b[0;32m~/anaconda3/envs/pcraster_env/lib/python3.9/site-packages/matplotlib/image.py:653\u001b[0m, in \u001b[0;36m_ImageBase.draw\u001b[0;34m(self, renderer)\u001b[0m\n\u001b[1;32m    651\u001b[0m         renderer\u001b[38;5;241m.\u001b[39mdraw_image(gc, l, b, im, trans)\n\u001b[1;32m    652\u001b[0m \u001b[38;5;28;01melse\u001b[39;00m:\n\u001b[0;32m--> 653\u001b[0m     im, l, b, trans \u001b[38;5;241m=\u001b[39m \u001b[38;5;28;43mself\u001b[39;49m\u001b[38;5;241;43m.\u001b[39;49m\u001b[43mmake_image\u001b[49m\u001b[43m(\u001b[49m\n\u001b[1;32m    654\u001b[0m \u001b[43m        \u001b[49m\u001b[43mrenderer\u001b[49m\u001b[43m,\u001b[49m\u001b[43m \u001b[49m\u001b[43mrenderer\u001b[49m\u001b[38;5;241;43m.\u001b[39;49m\u001b[43mget_image_magnification\u001b[49m\u001b[43m(\u001b[49m\u001b[43m)\u001b[49m\u001b[43m)\u001b[49m\n\u001b[1;32m    655\u001b[0m     \u001b[38;5;28;01mif\u001b[39;00m im \u001b[38;5;129;01mis\u001b[39;00m \u001b[38;5;129;01mnot\u001b[39;00m \u001b[38;5;28;01mNone\u001b[39;00m:\n\u001b[1;32m    656\u001b[0m         renderer\u001b[38;5;241m.\u001b[39mdraw_image(gc, l, b, im)\n",
      "File \u001b[0;32m~/anaconda3/envs/pcraster_env/lib/python3.9/site-packages/matplotlib/image.py:952\u001b[0m, in \u001b[0;36mAxesImage.make_image\u001b[0;34m(self, renderer, magnification, unsampled)\u001b[0m\n\u001b[1;32m    949\u001b[0m transformed_bbox \u001b[38;5;241m=\u001b[39m TransformedBbox(bbox, trans)\n\u001b[1;32m    950\u001b[0m clip \u001b[38;5;241m=\u001b[39m ((\u001b[38;5;28mself\u001b[39m\u001b[38;5;241m.\u001b[39mget_clip_box() \u001b[38;5;129;01mor\u001b[39;00m \u001b[38;5;28mself\u001b[39m\u001b[38;5;241m.\u001b[39maxes\u001b[38;5;241m.\u001b[39mbbox) \u001b[38;5;28;01mif\u001b[39;00m \u001b[38;5;28mself\u001b[39m\u001b[38;5;241m.\u001b[39mget_clip_on()\n\u001b[1;32m    951\u001b[0m         \u001b[38;5;28;01melse\u001b[39;00m \u001b[38;5;28mself\u001b[39m\u001b[38;5;241m.\u001b[39mfigure\u001b[38;5;241m.\u001b[39mbbox)\n\u001b[0;32m--> 952\u001b[0m \u001b[38;5;28;01mreturn\u001b[39;00m \u001b[38;5;28;43mself\u001b[39;49m\u001b[38;5;241;43m.\u001b[39;49m\u001b[43m_make_image\u001b[49m\u001b[43m(\u001b[49m\u001b[38;5;28;43mself\u001b[39;49m\u001b[38;5;241;43m.\u001b[39;49m\u001b[43m_A\u001b[49m\u001b[43m,\u001b[49m\u001b[43m \u001b[49m\u001b[43mbbox\u001b[49m\u001b[43m,\u001b[49m\u001b[43m \u001b[49m\u001b[43mtransformed_bbox\u001b[49m\u001b[43m,\u001b[49m\u001b[43m \u001b[49m\u001b[43mclip\u001b[49m\u001b[43m,\u001b[49m\n\u001b[1;32m    953\u001b[0m \u001b[43m                        \u001b[49m\u001b[43mmagnification\u001b[49m\u001b[43m,\u001b[49m\u001b[43m \u001b[49m\u001b[43munsampled\u001b[49m\u001b[38;5;241;43m=\u001b[39;49m\u001b[43munsampled\u001b[49m\u001b[43m)\u001b[49m\n",
      "File \u001b[0;32m~/anaconda3/envs/pcraster_env/lib/python3.9/site-packages/matplotlib/image.py:454\u001b[0m, in \u001b[0;36m_ImageBase._make_image\u001b[0;34m(self, A, in_bbox, out_bbox, clip_bbox, magnification, unsampled, round_to_pixel_border)\u001b[0m\n\u001b[1;32m    445\u001b[0m     scaled_dtype \u001b[38;5;241m=\u001b[39m np\u001b[38;5;241m.\u001b[39mfloat64 \u001b[38;5;28;01mif\u001b[39;00m da \u001b[38;5;241m>\u001b[39m \u001b[38;5;241m1e8\u001b[39m \u001b[38;5;28;01melse\u001b[39;00m np\u001b[38;5;241m.\u001b[39mfloat32\n\u001b[1;32m    447\u001b[0m \u001b[38;5;66;03m# Scale the input data to [.1, .9].  The Agg interpolators clip\u001b[39;00m\n\u001b[1;32m    448\u001b[0m \u001b[38;5;66;03m# to [0, 1] internally, and we use a smaller input scale to\u001b[39;00m\n\u001b[1;32m    449\u001b[0m \u001b[38;5;66;03m# identify the interpolated points that need to be flagged as\u001b[39;00m\n\u001b[0;32m   (...)\u001b[0m\n\u001b[1;32m    452\u001b[0m \n\u001b[1;32m    453\u001b[0m \u001b[38;5;66;03m# Always copy, and don't allow array subtypes.\u001b[39;00m\n\u001b[0;32m--> 454\u001b[0m A_scaled \u001b[38;5;241m=\u001b[39m \u001b[43mnp\u001b[49m\u001b[38;5;241;43m.\u001b[39;49m\u001b[43marray\u001b[49m\u001b[43m(\u001b[49m\u001b[43mA\u001b[49m\u001b[43m,\u001b[49m\u001b[43m \u001b[49m\u001b[43mdtype\u001b[49m\u001b[38;5;241;43m=\u001b[39;49m\u001b[43mscaled_dtype\u001b[49m\u001b[43m)\u001b[49m\n\u001b[1;32m    455\u001b[0m \u001b[38;5;66;03m# Clip scaled data around norm if necessary.  This is necessary\u001b[39;00m\n\u001b[1;32m    456\u001b[0m \u001b[38;5;66;03m# for big numbers at the edge of float64's ability to represent\u001b[39;00m\n\u001b[1;32m    457\u001b[0m \u001b[38;5;66;03m# changes.  Applying a norm first would be good, but ruins the\u001b[39;00m\n\u001b[1;32m    458\u001b[0m \u001b[38;5;66;03m# interpolation of over numbers.\u001b[39;00m\n\u001b[1;32m    459\u001b[0m \u001b[38;5;28mself\u001b[39m\u001b[38;5;241m.\u001b[39mnorm\u001b[38;5;241m.\u001b[39mautoscale_None(A)\n",
      "\u001b[0;31mMemoryError\u001b[0m: Unable to allocate 151. MiB for an array with shape (3717, 5336) and data type float64"
     ]
    },
    {
     "data": {
      "text/plain": [
       "<Figure size 640x480 with 1 Axes>"
      ]
     },
     "metadata": {},
     "output_type": "display_data"
    }
   ],
   "source": [
    "\n",
    "plt.imshow(array, cmap='viridis', alpha=0.9, origin=\"upper\")\n",
    "plt.scatter(kedoudou_x_in_pixel, kedougou_y_in_pixel, c='red', label='Kedougou sur l\"ordre 11', marker='x')\n",
    "plt.scatter(mako_x_in_pixel, mako_y_in_pixel, c='red', label='Mako sur l\"ordre 8', marker='*')\n",
    "plt.plot([kedoudou_x_in_pixel, mako_x_in_pixel], [kedougou_y_in_pixel, mako_y_in_pixel], color='black',\n",
    "        linestyle='--', label='Ligne Kédougou-Mako')\n",
    "plt.legend()\n",
    "plt.title(\"Validation visuelle avec Kédougou et Mako\")\n",
    "plt.show()"
   ]
  },
  {
   "cell_type": "code",
   "execution_count": 18,
   "id": "ccdc54b8",
   "metadata": {},
   "outputs": [
    {
     "data": {
      "text/plain": [
       "array([[0., 0., 0., ..., 0., 0., 0.],\n",
       "       [0., 0., 0., ..., 0., 0., 0.],\n",
       "       [0., 0., 0., ..., 0., 0., 0.],\n",
       "       ...,\n",
       "       [0., 0., 0., ..., 0., 0., 0.],\n",
       "       [0., 0., 0., ..., 0., 0., 0.],\n",
       "       [0., 0., 0., ..., 0., 0., 0.]])"
      ]
     },
     "execution_count": 18,
     "metadata": {},
     "output_type": "execute_result"
    }
   ],
   "source": []
  },
  {
   "cell_type": "code",
   "execution_count": 25,
   "id": "aa9f4314",
   "metadata": {},
   "outputs": [
    {
     "ename": "NameError",
     "evalue": "name 'col' is not defined",
     "output_type": "error",
     "traceback": [
      "\u001b[0;31m---------------------------------------------------------------------------\u001b[0m",
      "\u001b[0;31mNameError\u001b[0m                                 Traceback (most recent call last)",
      "Cell \u001b[0;32mIn[25], line 1\u001b[0m\n\u001b[0;32m----> 1\u001b[0m kedougou_strahler \u001b[38;5;241m=\u001b[39m strahler_value_point(strahlers, \u001b[43mcol\u001b[49m, row)\n\u001b[1;32m      2\u001b[0m kedougou_strahler\n",
      "\u001b[0;31mNameError\u001b[0m: name 'col' is not defined"
     ]
    }
   ],
   "source": [
    "kedougou_strahler = strahler_value_point(strahlers, col, row)\n",
    "kedougou_strahler"
   ]
  },
  {
   "cell_type": "code",
   "execution_count": null,
   "id": "edd4bcb1",
   "metadata": {},
   "outputs": [],
   "source": [
    "#pcr.lddcreatedem('Data/PCRaster_files/mnt.map', 1e31, 1e31, 1e31, 1e31)"
   ]
  },
  {
   "cell_type": "code",
   "execution_count": null,
   "id": "9e268a60",
   "metadata": {},
   "outputs": [],
   "source": []
  }
 ],
 "metadata": {
  "kernelspec": {
   "display_name": "Python 3 (ipykernel)",
   "language": "python",
   "name": "python3"
  },
  "language_info": {
   "codemirror_mode": {
    "name": "ipython",
    "version": 3
   },
   "file_extension": ".py",
   "mimetype": "text/x-python",
   "name": "python",
   "nbconvert_exporter": "python",
   "pygments_lexer": "ipython3",
   "version": "3.9.21"
  }
 },
 "nbformat": 4,
 "nbformat_minor": 5
}
